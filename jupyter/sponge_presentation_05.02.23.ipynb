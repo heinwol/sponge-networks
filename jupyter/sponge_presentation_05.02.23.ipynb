{
 "cells": [
  {
   "cell_type": "code",
   "execution_count": 1,
   "id": "7786abc6-eabc-4b10-8576-c67a857a1fbf",
   "metadata": {
    "editable": true,
    "slideshow": {
     "slide_type": "slide"
    },
    "tags": []
   },
   "outputs": [],
   "source": [
    "import sys\n",
    "sys.path.append('..')\n",
    "import sponge_networks as sn\n",
    "import numpy as np\n",
    "import networkx as nx\n",
    "import pandas as pd"
   ]
  },
  {
   "cell_type": "code",
   "execution_count": 2,
   "id": "e8026b1c-85af-42e0-aabf-ac7726724327",
   "metadata": {},
   "outputs": [
    {
     "data": {
      "text/html": [
       "<style>\n",
       ".jp-RenderedSVG{\n",
       "    display: table-cell;\n",
       "    text-align: center;\n",
       "    vertical-align: middle;\n",
       "}\n",
       "</style>\n"
      ],
      "text/plain": [
       "<IPython.core.display.HTML object>"
      ]
     },
     "metadata": {},
     "output_type": "display_data"
    }
   ],
   "source": [
    "%%HTML\n",
    "<style>\n",
    ".jp-RenderedSVG{\n",
    "    display: table-cell;\n",
    "    text-align: center;\n",
    "    vertical-align: middle;\n",
    "}\n",
    "</style>"
   ]
  },
  {
   "cell_type": "markdown",
   "id": "5c5a10cf-bead-44ec-80ab-eec2b59b64e2",
   "metadata": {
    "editable": true,
    "slideshow": {
     "slide_type": ""
    },
    "tags": []
   },
   "source": [
    "### Ресурсная сеть:"
   ]
  },
  {
   "cell_type": "markdown",
   "id": "d8e396ee-2ac8-4583-8717-072bed67a16e",
   "metadata": {
    "editable": true,
    "slideshow": {
     "slide_type": ""
    },
    "tags": []
   },
   "source": [
    "- представляет собой нелинейную модель потока, работающую в дискретном времени\n",
    "- Вершины сети синхронно перераспределяют некоторый бесконечно делимый ресурс.\n",
    "- На каждом временном шаге каждая вершина отправляет ресурс всем своим соседям по одному из двух правил с пороговым переключением.\n",
    "- Выбор правила зависит от количества ресурса в вершине;\n",
    "  - Если ресурс в вершине больше, чем общая пропускная способность ее исходящих ребер, он отправляет полную пропускную способность каждому ребру;\n",
    "  - В противном случае вершина отдает весь ресурс, распределяя его пропорционально пропускной способности исходящих ребер;\n",
    "- Вершины имеют неограниченные емкости."
   ]
  },
  {
   "cell_type": "code",
   "execution_count": 3,
   "id": "c6bbb011-6595-40ef-8896-5ae1285b7f47",
   "metadata": {},
   "outputs": [
    {
     "data": {
      "image/svg+xml": [
       "<svg xmlns=\"http://www.w3.org/2000/svg\" xmlns:xlink=\"http://www.w3.org/1999/xlink\" width=\"228pt\" height=\"190pt\" viewBox=\"0.00 0.00 228.37 189.58\">\n",
       "<g id=\"graph0\" class=\"graph\" transform=\"scale(1 1) rotate(0) translate(4 185.58)\">\n",
       "<title>%3</title>\n",
       "<polygon fill=\"white\" stroke=\"transparent\" points=\"-4,4 -4,-185.58 224.37,-185.58 224.37,4 -4,4\"/>\n",
       "<!-- 0 -->\n",
       "<g id=\"node1\" class=\"node\">\n",
       "<title>0</title>\n",
       "<ellipse fill=\"none\" stroke=\"black\" cx=\"27\" cy=\"-160.7\" rx=\"27\" ry=\"18\"/>\n",
       "<text text-anchor=\"middle\" x=\"27\" y=\"-157\" font-family=\"Times,serif\" font-size=\"14.00\">0</text>\n",
       "</g>\n",
       "<!-- 1 -->\n",
       "<g id=\"node2\" class=\"node\">\n",
       "<title>1</title>\n",
       "<ellipse fill=\"none\" stroke=\"black\" cx=\"193.37\" cy=\"-161.79\" rx=\"27\" ry=\"18\"/>\n",
       "<text text-anchor=\"middle\" x=\"193.37\" y=\"-158.09\" font-family=\"Times,serif\" font-size=\"14.00\">1</text>\n",
       "</g>\n",
       "<!-- 0&#45;&gt;1 -->\n",
       "<g id=\"edge1\" class=\"edge\">\n",
       "<title>0-&gt;1</title>\n",
       "<path fill=\"none\" stroke=\"black\" d=\"M52.96,-165.93C80.95,-168.13 125.7,-168.63 157.14,-167.23\"/>\n",
       "<polygon fill=\"black\" stroke=\"black\" points=\"157.45,-170.72 167.25,-166.68 157.07,-163.73 157.45,-170.72\"/>\n",
       "<text text-anchor=\"middle\" x=\"100.05\" y=\"-170.38\" font-family=\"Times,serif\" font-size=\"14.00\">1</text>\n",
       "</g>\n",
       "<!-- 2 -->\n",
       "<g id=\"node3\" class=\"node\">\n",
       "<title>2</title>\n",
       "<ellipse fill=\"none\" stroke=\"black\" cx=\"111.31\" cy=\"-18\" rx=\"27\" ry=\"18\"/>\n",
       "<text text-anchor=\"middle\" x=\"111.31\" y=\"-14.3\" font-family=\"Times,serif\" font-size=\"14.00\">2</text>\n",
       "</g>\n",
       "<!-- 0&#45;&gt;2 -->\n",
       "<g id=\"edge2\" class=\"edge\">\n",
       "<title>0-&gt;2</title>\n",
       "<path fill=\"none\" stroke=\"black\" d=\"M41.51,-145.27C58.72,-121.25 86.42,-74.74 101.4,-45.06\"/>\n",
       "<polygon fill=\"black\" stroke=\"black\" points=\"104.55,-46.59 105.78,-36.07 98.25,-43.52 104.55,-46.59\"/>\n",
       "<text text-anchor=\"middle\" x=\"66.45\" y=\"-98.97\" font-family=\"Times,serif\" font-size=\"14.00\">2</text>\n",
       "</g>\n",
       "<!-- 1&#45;&gt;0 -->\n",
       "<g id=\"edge3\" class=\"edge\">\n",
       "<title>1-&gt;0</title>\n",
       "<path fill=\"none\" stroke=\"black\" d=\"M167.41,-156.55C139.42,-154.35 94.67,-153.85 63.23,-155.25\"/>\n",
       "<polygon fill=\"black\" stroke=\"black\" points=\"62.92,-151.76 53.12,-155.8 63.29,-158.75 62.92,-151.76\"/>\n",
       "<text text-anchor=\"middle\" x=\"110.32\" y=\"-159.7\" font-family=\"Times,serif\" font-size=\"14.00\">1</text>\n",
       "</g>\n",
       "<!-- 2&#45;&gt;0 -->\n",
       "<g id=\"edge4\" class=\"edge\">\n",
       "<title>2-&gt;0</title>\n",
       "<path fill=\"none\" stroke=\"black\" d=\"M96.8,-33.42C79.59,-57.45 51.89,-103.95 36.91,-133.63\"/>\n",
       "<polygon fill=\"black\" stroke=\"black\" points=\"33.76,-132.11 32.53,-142.63 40.05,-135.18 33.76,-132.11\"/>\n",
       "<text text-anchor=\"middle\" x=\"61.86\" y=\"-72.33\" font-family=\"Times,serif\" font-size=\"14.00\">1</text>\n",
       "</g>\n",
       "<!-- 2&#45;&gt;1 -->\n",
       "<g id=\"edge5\" class=\"edge\">\n",
       "<title>2-&gt;1</title>\n",
       "<path fill=\"none\" stroke=\"black\" d=\"M121.04,-35.06C135.3,-60.03 161.95,-106.73 178.61,-135.93\"/>\n",
       "<polygon fill=\"black\" stroke=\"black\" points=\"175.65,-137.8 183.65,-144.75 181.73,-134.33 175.65,-137.8\"/>\n",
       "<text text-anchor=\"middle\" x=\"144.83\" y=\"-89.3\" font-family=\"Times,serif\" font-size=\"14.00\">3</text>\n",
       "</g>\n",
       "<!-- 2&#45;&gt;2 -->\n",
       "<g id=\"edge6\" class=\"edge\">\n",
       "<title>2-&gt;2</title>\n",
       "<path fill=\"none\" stroke=\"black\" d=\"M136.75,-24.69C147.34,-25.15 156.31,-22.92 156.31,-18 156.31,-14.77 152.45,-12.7 146.8,-11.79\"/>\n",
       "<polygon fill=\"black\" stroke=\"black\" points=\"146.91,-8.29 136.75,-11.31 146.57,-15.28 146.91,-8.29\"/>\n",
       "<text text-anchor=\"middle\" x=\"161.31\" y=\"-14.3\" font-family=\"Times,serif\" font-size=\"14.00\">4</text>\n",
       "</g>\n",
       "</g>\n",
       "</svg>"
      ],
      "text/plain": [
       "<IPython.core.display.SVG object>"
      ]
     },
     "execution_count": 3,
     "metadata": {},
     "output_type": "execute_result"
    }
   ],
   "source": [
    "R = np.array([\n",
    "        [0, 1, 2],\n",
    "        [1, 0, 0],\n",
    "        [1, 3, 4]\n",
    "    ])\n",
    "simple_graph = nx.from_numpy_array(R, create_using=nx.DiGraph)\n",
    "rn1 = sn.ResourceNetwork(simple_graph)\n",
    "rn1.plot(scale=1.2)"
   ]
  },
  {
   "cell_type": "markdown",
   "id": "6a73203c-3160-44f4-bc37-f6d2c6886f5f",
   "metadata": {},
   "source": [
    "- Ресурсы $q_i(t)$ -- неотрицательные числа, присвоенные вершинам $v_i, i = \\overline{1,n}$, и изменяющиеся в дискретном времени t.\n",
    "- Состояние $Q(t)$ c на временном шаге t представляет собой вектор значений ресурсов в каждой вершине:\n",
    "$$Q(t)=(q_1(t),…,q_n(t)).$$\n"
   ]
  },
  {
   "cell_type": "markdown",
   "id": "d1f8ad71-50eb-4d59-a4e0-1c7b475ee3a1",
   "metadata": {},
   "source": [
    "### Правило функционирования модели:"
   ]
  },
  {
   "cell_type": "markdown",
   "id": "e6fbb33b-e268-4d83-89c6-ad13760e0da7",
   "metadata": {},
   "source": [
    "- На временном шаге t вершина $v_i$ отправляет соседней вершине $v_j$ через ребро $e_{ij}$ количество ресурса $f_{ij}(t)$, равное:\n",
    "    $$f_{ij}(t)=\\left\\{\n",
    "        \\begin{array}{ccl}\n",
    "            r_{ij}, & q_i(t) \\geq r^{out}_{i} & -\\text{ правило 1} \\\\\n",
    "            \\frac{r_{ij}}{r^{out}_{i}} q_i(t), & q_i(t) < r^{out}_{i} & -\\text{ правило 2} \\\\\n",
    "        \\end{array}\n",
    "    \\right.$$\n",
    "- В таком случае, вершина $v_i$ в момент времени $t+1$ получает ресурса:\n",
    "    $$\\sum\\limits_{j = 1}^n f_{ij}(t) = q_i(t+1)$$"
   ]
  },
  {
   "cell_type": "code",
   "execution_count": 4,
   "id": "977f1a95-7261-4fc8-9d47-52d2ab1f14da",
   "metadata": {},
   "outputs": [
    {
     "data": {
      "application/vnd.jupyter.widget-view+json": {
       "model_id": "daac2dc50bae42fd9db64a636945ba41",
       "version_major": 2,
       "version_minor": 0
      },
      "text/plain": [
       "interactive(children=(IntSlider(value=0, description='№ of iteration', max=29), Output()), _dom_classes=('widg…"
      ]
     },
     "metadata": {},
     "output_type": "display_data"
    }
   ],
   "source": [
    "sim1 = rn1.run_simulation([5, 0, 0])\n",
    "rn1.plot_simulation(sim1, scale=1.4)"
   ]
  }
 ],
 "metadata": {
  "@deathbeds/jupyterlab-fonts": {
   "styles": {
    ":root": {}
   }
  },
  "kernelspec": {
   "display_name": "Python 3 (ipykernel)",
   "language": "python",
   "name": "python3"
  },
  "language_info": {
   "codemirror_mode": {
    "name": "ipython",
    "version": 3
   },
   "file_extension": ".py",
   "mimetype": "text/x-python",
   "name": "python",
   "nbconvert_exporter": "python",
   "pygments_lexer": "ipython3",
   "version": "3.11.4"
  }
 },
 "nbformat": 4,
 "nbformat_minor": 5
}
