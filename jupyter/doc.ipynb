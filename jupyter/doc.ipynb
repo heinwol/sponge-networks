{
 "cells": [
  {
   "cell_type": "code",
   "execution_count": 1,
   "id": "199b356a-4c3b-48d8-95c0-b7ea956c1083",
   "metadata": {},
   "outputs": [],
   "source": [
    "import sys\n",
    "sys.path.append('..')"
   ]
  },
  {
   "cell_type": "markdown",
   "id": "b1470e9a-d6f3-4eea-89fb-94aab99d9ebd",
   "metadata": {},
   "source": [
    "Для того, чтобы обновить версию программы, "
   ]
  },
  {
   "cell_type": "code",
   "execution_count": 2,
   "id": "664a713c-de13-44d2-9f41-016a7efcaad3",
   "metadata": {},
   "outputs": [],
   "source": [
    "import sponge_networks as sn\n",
    "import numpy as np\n",
    "import networkx as nx\n",
    "import pandas as pd"
   ]
  },
  {
   "cell_type": "code",
   "execution_count": null,
   "id": "193ab449-2bc6-49fb-9dc1-c169fb52ea1d",
   "metadata": {},
   "outputs": [],
   "source": []
  }
 ],
 "metadata": {
  "kernelspec": {
   "display_name": "Python 3 (ipykernel)",
   "language": "python",
   "name": "python3"
  },
  "language_info": {
   "codemirror_mode": {
    "name": "ipython",
    "version": 3
   },
   "file_extension": ".py",
   "mimetype": "text/x-python",
   "name": "python",
   "nbconvert_exporter": "python",
   "pygments_lexer": "ipython3",
   "version": "3.11.4"
  }
 },
 "nbformat": 4,
 "nbformat_minor": 5
}
