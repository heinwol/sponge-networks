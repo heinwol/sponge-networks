{
 "cells": [
  {
   "cell_type": "code",
   "execution_count": 1,
   "id": "8122536b-12dd-4ed2-bb86-784fc55d5051",
   "metadata": {},
   "outputs": [],
   "source": [
    "import sys\n",
    "sys.path.append('..')\n",
    "\n",
    "%reload_ext autoreload\n",
    "%autoreload 2\n",
    "# %aimport sponge_networks\n",
    "# %aimport sponge_networks.utils"
   ]
  },
  {
   "cell_type": "code",
   "execution_count": 2,
   "id": "d2e6c76f-f590-4fee-897e-c0ede2a2367b",
   "metadata": {},
   "outputs": [],
   "source": [
    "import sponge_networks as rn\n",
    "\n",
    "import matplotlib.pyplot as plt\n",
    "plt.rcParams[\"figure.figsize\"] = (10, 7)\n",
    "plt.rcParams[\"axes.grid\"] = True\n",
    "plt.rcParams[\"font.size\"] = 12\n",
    "%matplotlib inline\n",
    "\n",
    "import numpy as np\n",
    "import networkx as nx\n",
    "import scipy\n",
    "import cairosvg\n",
    "import imageio\n",
    "import pandas as pd\n",
    "from IPython.lib import pretty\n",
    "# import abc\n",
    "\n",
    "# import plotly.graph_objs as go\n",
    "# import plotly.express as px\n",
    "\n",
    "from scipy.linalg import null_space"
   ]
  },
  {
   "cell_type": "code",
   "execution_count": 3,
   "id": "04734e26-0d92-427f-bc85-6d1eb1f1305c",
   "metadata": {},
   "outputs": [],
   "source": [
    "from collections.abc import Sequence"
   ]
  },
  {
   "cell_type": "code",
   "execution_count": 4,
   "id": "1c8b1ac9",
   "metadata": {},
   "outputs": [
    {
     "data": {
      "text/html": [
       "<style>\n",
       "/* Any CSS style can go in here. */\n",
       ".dataframe th {\n",
       "    font-size: 14px;\n",
       "}\n",
       ".dataframe td {\n",
       "    font-size: 14px;\n",
       "}\n",
       "</style>\n"
      ],
      "text/plain": [
       "<IPython.core.display.HTML object>"
      ]
     },
     "metadata": {},
     "output_type": "display_data"
    }
   ],
   "source": [
    "%%html\n",
    "<style>\n",
    "/* Any CSS style can go in here. */\n",
    ".dataframe th {\n",
    "    font-size: 14px;\n",
    "}\n",
    ".dataframe td {\n",
    "    font-size: 14px;\n",
    "}\n",
    "</style>\n"
   ]
  },
  {
   "cell_type": "markdown",
   "id": "9721b3a6-5879-48b5-be96-23909a3837c9",
   "metadata": {},
   "source": [
    "## Layouts"
   ]
  },
  {
   "cell_type": "code",
   "execution_count": 5,
   "id": "ec9f5041-8121-4be8-a288-b29efe718e63",
   "metadata": {},
   "outputs": [
    {
     "data": {
      "text/plain": [
       "{(0, 0): {(1, 0): {}, (0, 1): {}},\n",
       " (1, 0): {(2, 0): {}, (1, 1): {}, (0, 1): {}},\n",
       " (2, 0): {(1, 1): {}},\n",
       " (0, 1): {(1, 1): {}, (0, 2): {}, (1, 2): {}},\n",
       " (1, 1): {(1, 2): {}, (2, 2): {}},\n",
       " (0, 2): {(1, 2): {}},\n",
       " (1, 2): {(2, 2): {}},\n",
       " (2, 2): {}}"
      ]
     },
     "execution_count": 5,
     "metadata": {},
     "output_type": "execute_result"
    }
   ],
   "source": [
    "it = nx.triangular_lattice_graph(2, 3, with_positions=True, create_using=nx.DiGraph)\n",
    "nx.to_dict_of_dicts(it)"
   ]
  },
  {
   "cell_type": "code",
   "execution_count": 6,
   "id": "bbcb5644-df3f-4f5f-8930-8bc12d32806c",
   "metadata": {},
   "outputs": [
    {
     "data": {
      "text/plain": [
       "18"
      ]
     },
     "execution_count": 6,
     "metadata": {},
     "output_type": "execute_result"
    }
   ],
   "source": [
    "it = nx.triangular_lattice_graph(4, 5, with_positions=True, create_using=nx.DiGraph)\n",
    "# nx.to_dict_of_dicts(it)\n",
    "# nx.draw_networkx(it)\n",
    "gr = rn.ResourceNetworkGreedy(it)\n",
    "len(gr)"
   ]
  },
  {
   "cell_type": "code",
   "execution_count": 10,
   "id": "57a98734-1057-45b7-b0e5-3e030c483b11",
   "metadata": {},
   "outputs": [],
   "source": [
    "class A:\n",
    "    ...\n",
    "class B(A):\n",
    "    ...\n",
    "b = B()"
   ]
  },
  {
   "cell_type": "code",
   "execution_count": 11,
   "id": "5ad3e897-87a1-4b4f-9a19-2e404e796964",
   "metadata": {},
   "outputs": [
    {
     "data": {
      "text/plain": [
       "False"
      ]
     },
     "execution_count": 11,
     "metadata": {},
     "output_type": "execute_result"
    }
   ],
   "source": [
    "isinstance(B, A)"
   ]
  },
  {
   "cell_type": "code",
   "execution_count": 16,
   "id": "d568d900-3b1c-41cd-b850-f9cdb4ee40b4",
   "metadata": {},
   "outputs": [
    {
     "data": {
      "text/plain": [
       "True"
      ]
     },
     "execution_count": 16,
     "metadata": {},
     "output_type": "execute_result"
    }
   ],
   "source": [
    "issubclass(list, Sequence)"
   ]
  },
  {
   "cell_type": "code",
   "execution_count": 11,
   "id": "98bc90b1-c764-4ec7-87d8-6a167aaefcb5",
   "metadata": {},
   "outputs": [
    {
     "ename": "ValueError",
     "evalue": "\n                It seems like a tuple is used as one of value descriptor keys.\n                At the same time, a tuple ('(0, 0)') is passed to __getitem__.\n                To avoid ambiguity, such behavior is prohibited. Please use\n                list ([0, 0]) instead.\n                ",
     "output_type": "error",
     "traceback": [
      "\u001b[0;31m---------------------------------------------------------------------------\u001b[0m",
      "\u001b[0;31mRemoteTraceback\u001b[0m                           Traceback (most recent call last)",
      "\u001b[0;31mRemoteTraceback\u001b[0m: \n\"\"\"\nTraceback (most recent call last):\n  File \"/opt/conda/lib/python3.11/multiprocessing/pool.py\", line 125, in worker\n    result = (True, func(*args, **kwds))\n                    ^^^^^^^^^^^^^^^^^^^\n  File \"/opt/conda/lib/python3.11/multiprocessing/pool.py\", line 51, in starmapstar\n    return list(itertools.starmap(args[0], args[1]))\n           ^^^^^^^^^^^^^^^^^^^^^^^^^^^^^^^^^^^^^^^^^\n  File \"/home/jovyan/Documents/work/ipu/sponge-networks/jupyter/../sponge_networks/utils/utils.py\", line 242, in parallel_plot\n    G.nodes[v][\"label\"] = my_fmt(cast(AnyFloat, state[\"states\"][v]))\n                                                ~~~~~~~~~~~~~~~^^^\n  File \"/home/jovyan/Documents/work/ipu/sponge-networks/jupyter/../sponge_networks/utils/utils.py\", line 150, in __getitem__\n    raise ValueError(\nValueError: \n                It seems like a tuple is used as one of value descriptor keys.\n                At the same time, a tuple ('(0, 0)') is passed to __getitem__.\n                To avoid ambiguity, such behavior is prohibited. Please use\n                list ([0, 0]) instead.\n                \n\"\"\"",
      "\nThe above exception was the direct cause of the following exception:\n",
      "\u001b[0;31mValueError\u001b[0m                                Traceback (most recent call last)",
      "Cell \u001b[0;32mIn[11], line 2\u001b[0m\n\u001b[1;32m      1\u001b[0m sim \u001b[38;5;241m=\u001b[39m gr\u001b[38;5;241m.\u001b[39mrun_simulation(np\u001b[38;5;241m.\u001b[39mrandom\u001b[38;5;241m.\u001b[39mrandint(\u001b[38;5;241m0\u001b[39m, \u001b[38;5;241m10\u001b[39m, size\u001b[38;5;241m=\u001b[39m\u001b[38;5;241m18\u001b[39m))\n\u001b[0;32m----> 2\u001b[0m \u001b[43mrn\u001b[49m\u001b[38;5;241;43m.\u001b[39;49m\u001b[43mplot_simulation\u001b[49m\u001b[43m(\u001b[49m\u001b[43mgr\u001b[49m\u001b[43m,\u001b[49m\u001b[43m \u001b[49m\u001b[43msim\u001b[49m\u001b[43m)\u001b[49m\n",
      "File \u001b[0;32m~/Documents/work/ipu/sponge-networks/jupyter/../sponge_networks/resource_networks.py:351\u001b[0m, in \u001b[0;36mplot_simulation\u001b[0;34m(G, simulation, scale)\u001b[0m\n\u001b[1;32m    350\u001b[0m \u001b[38;5;28;01mdef\u001b[39;00m \u001b[38;5;21mplot_simulation\u001b[39m(G: ResourceNetwork, simulation: StateArray, scale: \u001b[38;5;28mfloat\u001b[39m \u001b[38;5;241m=\u001b[39m \u001b[38;5;241m1.0\u001b[39m):\n\u001b[0;32m--> 351\u001b[0m     pl \u001b[38;5;241m=\u001b[39m \u001b[43mG\u001b[49m\u001b[38;5;241;43m.\u001b[39;49m\u001b[43mplot_with_states\u001b[49m\u001b[43m(\u001b[49m\u001b[43msimulation\u001b[49m\u001b[43m,\u001b[49m\u001b[43m \u001b[49m\u001b[43mscale\u001b[49m\u001b[38;5;241;43m=\u001b[39;49m\u001b[43mscale\u001b[49m\u001b[43m)\u001b[49m\n\u001b[1;32m    352\u001b[0m     f \u001b[38;5;241m=\u001b[39m \u001b[38;5;28;01mlambda\u001b[39;00m i: pl[i]\n\u001b[1;32m    353\u001b[0m     interact(\n\u001b[1;32m    354\u001b[0m         f,\n\u001b[1;32m    355\u001b[0m         i\u001b[38;5;241m=\u001b[39mwidgets\u001b[38;5;241m.\u001b[39mIntSlider(\n\u001b[0;32m   (...)\u001b[0m\n\u001b[1;32m    361\u001b[0m         ),\n\u001b[1;32m    362\u001b[0m     )\n",
      "File \u001b[0;32m~/Documents/work/ipu/sponge-networks/jupyter/../sponge_networks/resource_networks.py:261\u001b[0m, in \u001b[0;36mResourceNetwork.plot_with_states\u001b[0;34m(self, states, prop_setter, scale, max_node_width)\u001b[0m\n\u001b[1;32m    259\u001b[0m n_pools \u001b[38;5;241m=\u001b[39m \u001b[38;5;28mmin\u001b[39m(\u001b[38;5;241m8\u001b[39m, \u001b[38;5;28mlen\u001b[39m(states\u001b[38;5;241m.\u001b[39mstates_arr))\n\u001b[1;32m    260\u001b[0m pool_obj \u001b[38;5;241m=\u001b[39m multiprocessing\u001b[38;5;241m.\u001b[39mPool(n_pools)\n\u001b[0;32m--> 261\u001b[0m answer: \u001b[38;5;28mlist\u001b[39m[\u001b[38;5;28mlist\u001b[39m[SVG]] \u001b[38;5;241m=\u001b[39m \u001b[43mpool_obj\u001b[49m\u001b[38;5;241;43m.\u001b[39;49m\u001b[43mstarmap\u001b[49m\u001b[43m(\u001b[49m\n\u001b[1;32m    262\u001b[0m \u001b[43m    \u001b[49m\u001b[43mparallel_plot\u001b[49m\u001b[43m,\u001b[49m\n\u001b[1;32m    263\u001b[0m \u001b[43m    \u001b[49m\u001b[38;5;28;43mzip\u001b[39;49m\u001b[43m(\u001b[49m\n\u001b[1;32m    264\u001b[0m \u001b[43m        \u001b[49m\u001b[43mconst_iter\u001b[49m\u001b[43m(\u001b[49m\u001b[43mG\u001b[49m\u001b[43m)\u001b[49m\u001b[43m,\u001b[49m\n\u001b[1;32m    265\u001b[0m \u001b[43m        \u001b[49m\u001b[43mconst_iter\u001b[49m\u001b[43m(\u001b[49m\u001b[43mstates\u001b[49m\u001b[43m)\u001b[49m\u001b[43m,\u001b[49m\n\u001b[1;32m    266\u001b[0m \u001b[43m        \u001b[49m\u001b[43mparallelize_range\u001b[49m\u001b[43m(\u001b[49m\u001b[43mn_pools\u001b[49m\u001b[43m,\u001b[49m\u001b[43m \u001b[49m\u001b[38;5;28;43mrange\u001b[39;49m\u001b[43m(\u001b[49m\u001b[38;5;28;43mlen\u001b[39;49m\u001b[43m(\u001b[49m\u001b[43mres\u001b[49m\u001b[43m)\u001b[49m\u001b[43m)\u001b[49m\u001b[43m)\u001b[49m\u001b[43m,\u001b[49m\n\u001b[1;32m    267\u001b[0m \u001b[43m    \u001b[49m\u001b[43m)\u001b[49m\u001b[43m,\u001b[49m\n\u001b[1;32m    268\u001b[0m \u001b[43m\u001b[49m\u001b[43m)\u001b[49m\n\u001b[1;32m    269\u001b[0m \u001b[38;5;28;01mreturn\u001b[39;00m cast(\u001b[38;5;28mlist\u001b[39m[SVG], np\u001b[38;5;241m.\u001b[39mconcatenate(cast(NDarrayT[SVG], answer)))\n",
      "File \u001b[0;32m/opt/conda/lib/python3.11/multiprocessing/pool.py:375\u001b[0m, in \u001b[0;36mPool.starmap\u001b[0;34m(self, func, iterable, chunksize)\u001b[0m\n\u001b[1;32m    369\u001b[0m \u001b[38;5;28;01mdef\u001b[39;00m \u001b[38;5;21mstarmap\u001b[39m(\u001b[38;5;28mself\u001b[39m, func, iterable, chunksize\u001b[38;5;241m=\u001b[39m\u001b[38;5;28;01mNone\u001b[39;00m):\n\u001b[1;32m    370\u001b[0m \u001b[38;5;250m    \u001b[39m\u001b[38;5;124;03m'''\u001b[39;00m\n\u001b[1;32m    371\u001b[0m \u001b[38;5;124;03m    Like `map()` method but the elements of the `iterable` are expected to\u001b[39;00m\n\u001b[1;32m    372\u001b[0m \u001b[38;5;124;03m    be iterables as well and will be unpacked as arguments. Hence\u001b[39;00m\n\u001b[1;32m    373\u001b[0m \u001b[38;5;124;03m    `func` and (a, b) becomes func(a, b).\u001b[39;00m\n\u001b[1;32m    374\u001b[0m \u001b[38;5;124;03m    '''\u001b[39;00m\n\u001b[0;32m--> 375\u001b[0m     \u001b[38;5;28;01mreturn\u001b[39;00m \u001b[38;5;28;43mself\u001b[39;49m\u001b[38;5;241;43m.\u001b[39;49m\u001b[43m_map_async\u001b[49m\u001b[43m(\u001b[49m\u001b[43mfunc\u001b[49m\u001b[43m,\u001b[49m\u001b[43m \u001b[49m\u001b[43miterable\u001b[49m\u001b[43m,\u001b[49m\u001b[43m \u001b[49m\u001b[43mstarmapstar\u001b[49m\u001b[43m,\u001b[49m\u001b[43m \u001b[49m\u001b[43mchunksize\u001b[49m\u001b[43m)\u001b[49m\u001b[38;5;241;43m.\u001b[39;49m\u001b[43mget\u001b[49m\u001b[43m(\u001b[49m\u001b[43m)\u001b[49m\n",
      "File \u001b[0;32m/opt/conda/lib/python3.11/multiprocessing/pool.py:774\u001b[0m, in \u001b[0;36mApplyResult.get\u001b[0;34m(self, timeout)\u001b[0m\n\u001b[1;32m    772\u001b[0m     \u001b[38;5;28;01mreturn\u001b[39;00m \u001b[38;5;28mself\u001b[39m\u001b[38;5;241m.\u001b[39m_value\n\u001b[1;32m    773\u001b[0m \u001b[38;5;28;01melse\u001b[39;00m:\n\u001b[0;32m--> 774\u001b[0m     \u001b[38;5;28;01mraise\u001b[39;00m \u001b[38;5;28mself\u001b[39m\u001b[38;5;241m.\u001b[39m_value\n",
      "\u001b[0;31mValueError\u001b[0m: \n                It seems like a tuple is used as one of value descriptor keys.\n                At the same time, a tuple ('(0, 0)') is passed to __getitem__.\n                To avoid ambiguity, such behavior is prohibited. Please use\n                list ([0, 0]) instead.\n                "
     ]
    }
   ],
   "source": [
    "sim = gr.run_simulation(np.random.randint(0, 10, size=18))\n",
    "rn.plot_simulation(gr, sim)"
   ]
  },
  {
   "cell_type": "code",
   "execution_count": 173,
   "id": "a66259bb-01da-4c63-9ebf-28e9a14b9044",
   "metadata": {},
   "outputs": [
    {
     "data": {
      "text/plain": [
       "{'pos': (0.5, 0.8660254037844386)}"
      ]
     },
     "execution_count": 173,
     "metadata": {},
     "output_type": "execute_result"
    }
   ],
   "source": [
    "it.nodes[(0, 1)]"
   ]
  },
  {
   "cell_type": "markdown",
   "id": "707202f1-5a46-4479-ba09-373655e762ac",
   "metadata": {
    "jp-MarkdownHeadingCollapsed": true
   },
   "source": [
    "## Examples"
   ]
  },
  {
   "cell_type": "code",
   "execution_count": 4,
   "id": "ecadc9c7",
   "metadata": {},
   "outputs": [],
   "source": [
    "# n = 4\n",
    "# G2 = ResourceNetwork(nx.fast_gnp_random_graph(n, 0.4, directed=True))\n",
    "# sim = G2.run_simulation(np.random.randint(10, 13, size=n), 40)\n",
    "# plot_simulation(G2, sim)\n",
    "# sim.arr"
   ]
  },
  {
   "cell_type": "code",
   "execution_count": 17,
   "id": "2bfb6288",
   "metadata": {},
   "outputs": [
    {
     "data": {
      "application/vnd.jupyter.widget-view+json": {
       "model_id": "d815c7c4ebad4c349a2c4fa5a07d892f",
       "version_major": 2,
       "version_minor": 0
      },
      "text/plain": [
       "interactive(children=(IntSlider(value=0, description='№ of iteration', max=19), Output()), _dom_classes=('widg…"
      ]
     },
     "metadata": {},
     "output_type": "display_data"
    }
   ],
   "source": [
    "ig = np.array([\n",
    "       [0, 0, 2, 0], #если заменить 2 на 1, то аттрактором станет другая вершина!\n",
    "       [0, 0, 0, 4], \n",
    "       [3, 2, 0, 0],\n",
    "       [1, 5, 0, 0]])\n",
    "interesting_graph = rn.ResourceNetwork(nx.from_numpy_array(\n",
    "    ig,\n",
    "    create_using=nx.DiGraph))\n",
    "sim = interesting_graph.run_simulation([20, 10, 6, 12], 20)\n",
    "rn.plot_simulation(interesting_graph, sim, scale=1)"
   ]
  },
  {
   "cell_type": "code",
   "execution_count": 133,
   "id": "4e76abcc-9a37-4a5c-a49c-480a4485695c",
   "metadata": {},
   "outputs": [],
   "source": [
    "ig = np.array([\n",
    "       [1, 0, 2, 0], #если заменить 2 на 1, то аттрактором станет другая вершина!\n",
    "       [0, 0, 0, 4], \n",
    "       [3, 2, 5, 0],\n",
    "       [1, 5, 0, 0]\n",
    "])\n",
    "Gr = nx.from_numpy_array(\n",
    "    np.diag(np.arange(2)),\n",
    "    create_using=nx.DiGraph\n",
    ")\n",
    "interesting_graph = rn.ResourceNetworkGreedy(Gr)\n",
    "# sim = interesting_graph.run_simulation([20, 10, 0, 12], 300)\n",
    "# rn.plot_simulation(interesting_graph, sim)"
   ]
  },
  {
   "cell_type": "code",
   "execution_count": 135,
   "id": "590f2f38-5269-4621-8bdc-e31f5600c207",
   "metadata": {},
   "outputs": [
    {
     "name": "stdout",
     "output_type": "stream",
     "text": [
      "ResourceNetworkGreedy(adjacency_matrix=array([[0, 0],\n",
      "                                              [0, 1]]),\n",
      "                      idx_descriptor=[0, 1])\n"
     ]
    },
    {
     "data": {
      "text/plain": [
       "ResourceNetworkGreedy(adjacency_matrix=array([[ 0,  0, 10],\n",
       "                                              [ 0,  1,  0],\n",
       "                                              [ 0,  0,  0]]),\n",
       "                      idx_descriptor=[0, 1, 'lala'])"
      ]
     },
     "execution_count": 135,
     "metadata": {},
     "output_type": "execute_result"
    }
   ],
   "source": [
    "G = interesting_graph\n",
    "print(G)\n",
    "G = G.altered(lambda x: x.add_edge(0, \"lala\", weight=10))\n",
    "G"
   ]
  },
  {
   "cell_type": "code",
   "execution_count": 24,
   "id": "9f6c8f77-257b-4566-bf97-a759c264698f",
   "metadata": {},
   "outputs": [],
   "source": [
    "# it = sim.simple_protocol()\n",
    "# it.to_excel(\"../tests/data/g1.xlsx\")"
   ]
  },
  {
   "cell_type": "code",
   "execution_count": 25,
   "id": "b5af8a87",
   "metadata": {},
   "outputs": [
    {
     "data": {
      "application/vnd.jupyter.widget-view+json": {
       "model_id": "e8445de455b14b8ca3c87c40fffed362",
       "version_major": 2,
       "version_minor": 0
      },
      "text/plain": [
       "interactive(children=(IntSlider(value=0, description='№ of iteration', max=39), Output()), _dom_classes=('widg…"
      ]
     },
     "metadata": {},
     "output_type": "display_data"
    }
   ],
   "source": [
    "M = np.array([\n",
    "    [1, 1, 1, 1, 1],\n",
    "    [1, 1, 1, 1, 1],\n",
    "    [3, 1, 1, 1, 1],\n",
    "    [4, 1, 1, 1, 1],\n",
    "    [5, 1, 1, 1, 1]\n",
    "])\n",
    "G = ResourceNetwork(nx.from_numpy_array(M, create_using=nx.DiGraph))\n",
    "sim = G.run_simulation([0, 40, 0, 0, 0], 40)\n",
    "plot_simulation(G, sim, scale=1.5)"
   ]
  },
  {
   "cell_type": "code",
   "execution_count": 28,
   "id": "307928d0-6c12-409d-b900-92d5ef3fb58a",
   "metadata": {
    "scrolled": true
   },
   "outputs": [
    {
     "data": {
      "application/vnd.jupyter.widget-view+json": {
       "model_id": "ce418d4cae0a4d2a8d16bb4988e92fd7",
       "version_major": 2,
       "version_minor": 0
      },
      "text/plain": [
       "interactive(children=(IntSlider(value=0, description='№ of iteration', max=39), Output()), _dom_classes=('widg…"
      ]
     },
     "metadata": {},
     "output_type": "display_data"
    }
   ],
   "source": [
    "G_gr = G.to_child(ResourceNetworkGreedy)\n",
    "sim = G_gr.run_simulation([0, 40, 0, 0, 0], 40)\n",
    "plot_simulation(G_gr, sim, scale=1.5)"
   ]
  },
  {
   "cell_type": "markdown",
   "id": "7ae774a8",
   "metadata": {
    "jp-MarkdownHeadingCollapsed": true
   },
   "source": [
    "## Simple network"
   ]
  },
  {
   "cell_type": "code",
   "execution_count": 13,
   "id": "0a536be8",
   "metadata": {},
   "outputs": [],
   "source": [
    "G_ = ResourceDiGraph(nx.from_numpy_array(np.array([\n",
    "    [0, 1, 0],\n",
    "    [0, 0, 2],\n",
    "    [3, 0, 0]\n",
    "]), create_using=nx.DiGraph))\n",
    "# with open('work/ipu/report 01.02.22/3.svg', 'w') as f:\n",
    "    # f.write(G_.plot().data)"
   ]
  },
  {
   "cell_type": "code",
   "execution_count": 14,
   "id": "0c84cac1",
   "metadata": {},
   "outputs": [
    {
     "data": {
      "image/svg+xml": [
       "<svg xmlns=\"http://www.w3.org/2000/svg\" xmlns:xlink=\"http://www.w3.org/1999/xlink\" width=\"185pt\" height=\"150pt\" viewBox=\"0.00 0.00 184.75 150.09\">\n",
       "<g id=\"graph0\" class=\"graph\" transform=\"scale(1 1) rotate(0) translate(4 146.09)\">\n",
       "<title>%3</title>\n",
       "<polygon fill=\"white\" stroke=\"transparent\" points=\"-4,4 -4,-146.09 180.75,-146.09 180.75,4 -4,4\"/>\n",
       "<!-- 0 -->\n",
       "<g id=\"node1\" class=\"node\">\n",
       "<title>0</title>\n",
       "<ellipse fill=\"none\" stroke=\"black\" cx=\"27\" cy=\"-123.29\" rx=\"27\" ry=\"18\"/>\n",
       "<text text-anchor=\"middle\" x=\"27\" y=\"-119.59\" font-family=\"Times,serif\" font-size=\"14.00\">0</text>\n",
       "</g>\n",
       "<!-- 1 -->\n",
       "<g id=\"node2\" class=\"node\">\n",
       "<title>1</title>\n",
       "<ellipse fill=\"none\" stroke=\"black\" cx=\"149.75\" cy=\"-124.09\" rx=\"27\" ry=\"18\"/>\n",
       "<text text-anchor=\"middle\" x=\"149.75\" y=\"-120.39\" font-family=\"Times,serif\" font-size=\"14.00\">1</text>\n",
       "</g>\n",
       "<!-- 0&#45;&gt;1 -->\n",
       "<g id=\"edge1\" class=\"edge\">\n",
       "<title>0-&gt;1</title>\n",
       "<path fill=\"none\" stroke=\"black\" d=\"M54.24,-123.47C71.41,-123.58 93.79,-123.73 112.58,-123.85\"/>\n",
       "<polygon fill=\"black\" stroke=\"black\" points=\"112.56,-127.35 122.58,-123.91 112.61,-120.35 112.56,-127.35\"/>\n",
       "<text text-anchor=\"middle\" x=\"78.41\" y=\"-127.46\" font-family=\"Times,serif\" font-size=\"14.00\">1</text>\n",
       "</g>\n",
       "<!-- 2 -->\n",
       "<g id=\"node3\" class=\"node\">\n",
       "<title>2</title>\n",
       "<ellipse fill=\"none\" stroke=\"black\" cx=\"89.21\" cy=\"-18\" rx=\"27\" ry=\"18\"/>\n",
       "<text text-anchor=\"middle\" x=\"89.21\" y=\"-14.3\" font-family=\"Times,serif\" font-size=\"14.00\">2</text>\n",
       "</g>\n",
       "<!-- 0&#45;&gt;2 -->\n",
       "<g id=\"edge2\" class=\"edge\">\n",
       "<title>0-&gt;2</title>\n",
       "<path fill=\"none\" stroke=\"black\" d=\"M42.04,-108.08C53.87,-91.67 69.67,-65.3 79.81,-45.3\"/>\n",
       "<polygon fill=\"black\" stroke=\"black\" points=\"83.07,-46.59 84.29,-36.06 76.78,-43.53 83.07,-46.59\"/>\n",
       "<text text-anchor=\"middle\" x=\"55.93\" y=\"-80.49\" font-family=\"Times,serif\" font-size=\"14.00\">2</text>\n",
       "</g>\n",
       "<!-- 1&#45;&gt;2 -->\n",
       "<g id=\"edge3\" class=\"edge\">\n",
       "<title>1-&gt;2</title>\n",
       "<path fill=\"none\" stroke=\"black\" d=\"M140.02,-107.05C130.27,-89.96 115.13,-63.42 103.91,-43.76\"/>\n",
       "<polygon fill=\"black\" stroke=\"black\" points=\"106.91,-41.95 98.91,-35 100.83,-45.42 106.91,-41.95\"/>\n",
       "<text text-anchor=\"middle\" x=\"116.97\" y=\"-79.21\" font-family=\"Times,serif\" font-size=\"14.00\">1</text>\n",
       "</g>\n",
       "<!-- 2&#45;&gt;0 -->\n",
       "<g id=\"edge4\" class=\"edge\">\n",
       "<title>2-&gt;0</title>\n",
       "<path fill=\"none\" stroke=\"black\" d=\"M74.16,-33.21C62.34,-49.62 46.54,-75.98 36.4,-95.99\"/>\n",
       "<polygon fill=\"black\" stroke=\"black\" points=\"33.13,-94.7 31.92,-105.22 39.43,-97.76 33.13,-94.7\"/>\n",
       "<text text-anchor=\"middle\" x=\"50.28\" y=\"-53.4\" font-family=\"Times,serif\" font-size=\"14.00\">1</text>\n",
       "</g>\n",
       "</g>\n",
       "</svg>"
      ],
      "text/plain": [
       "<IPython.core.display.SVG object>"
      ]
     },
     "execution_count": 14,
     "metadata": {},
     "output_type": "execute_result"
    }
   ],
   "source": [
    "G = ResourceDiGraph(nx.from_numpy_array(np.array([\n",
    "    [0, 1, 2],\n",
    "    [0, 0, 1],\n",
    "    [1, 0, 0]\n",
    "]), create_using=nx.DiGraph))\n",
    "G.plot()"
   ]
  },
  {
   "cell_type": "code",
   "execution_count": 15,
   "id": "91079502",
   "metadata": {},
   "outputs": [
    {
     "data": {
      "application/vnd.jupyter.widget-view+json": {
       "model_id": "913df776997a47ae853ffa247d4ddd5a",
       "version_major": 2,
       "version_minor": 0
      },
      "text/plain": [
       "interactive(children=(IntSlider(value=0, description='№ of iteration', max=25), Output()), _dom_classes=('widg…"
      ]
     },
     "metadata": {},
     "output_type": "display_data"
    }
   ],
   "source": [
    "G = ResourceDiGraphWithIncome(nx.from_numpy_array(np.array([\n",
    "    [0, 4, 5],\n",
    "    [0, 0, 4],\n",
    "    [3, 0, 0]\n",
    "]), create_using=nx.DiGraph))\n",
    "sim = G.run_simulation([0, 20, 0], 26)\n",
    "plot_simulation(G, sim)"
   ]
  },
  {
   "cell_type": "code",
   "execution_count": 16,
   "id": "c1b6de1e",
   "metadata": {},
   "outputs": [
    {
     "data": {
      "application/vnd.jupyter.widget-view+json": {
       "model_id": "66b34990ccea4680b4ef7b639e52fc7e",
       "version_major": 2,
       "version_minor": 0
      },
      "text/plain": [
       "interactive(children=(IntSlider(value=0, description='№ of iteration', max=49), Output()), _dom_classes=('widg…"
      ]
     },
     "metadata": {},
     "output_type": "display_data"
    }
   ],
   "source": [
    "G2 = ResourceDiGraphWithIncome(nx.from_numpy_array(np.array([\n",
    "    [0, 4, 5],\n",
    "    [0, 0, 6],\n",
    "    [10, 0, 0]\n",
    "]), create_using=nx.DiGraph))\n",
    "sim = G2.run_simulation([0, 30, 0], 50)\n",
    "plot_simulation(G2, sim)"
   ]
  },
  {
   "cell_type": "code",
   "execution_count": 17,
   "id": "1f2dc0cd",
   "metadata": {},
   "outputs": [
    {
     "data": {
      "text/plain": [
       "22.0"
      ]
     },
     "execution_count": 17,
     "metadata": {},
     "output_type": "execute_result"
    }
   ],
   "source": [
    "G2.T()"
   ]
  },
  {
   "cell_type": "code",
   "execution_count": 18,
   "id": "27e65013",
   "metadata": {},
   "outputs": [
    {
     "data": {
      "text/plain": [
       "array([22.        , 33.        , 24.44444444])"
      ]
     },
     "execution_count": 18,
     "metadata": {},
     "output_type": "execute_result"
    }
   ],
   "source": [
    "G2.r_out() / G2.one_limit_state()"
   ]
  },
  {
   "cell_type": "code",
   "execution_count": 19,
   "id": "4c8788bb",
   "metadata": {},
   "outputs": [
    {
     "data": {
      "text/plain": [
       "(array([ 9,  6, 10]), array([0.40909091, 0.18181818, 0.40909091]))"
      ]
     },
     "execution_count": 19,
     "metadata": {},
     "output_type": "execute_result"
    }
   ],
   "source": [
    "G2.r_out(), G2.one_limit_state()"
   ]
  },
  {
   "cell_type": "code",
   "execution_count": 42,
   "id": "a7f839be",
   "metadata": {},
   "outputs": [],
   "source": [
    "import io"
   ]
  },
  {
   "cell_type": "code",
   "execution_count": 43,
   "id": "f6d9cd3e",
   "metadata": {},
   "outputs": [],
   "source": [
    "f = io.StringIO('test')"
   ]
  },
  {
   "cell_type": "code",
   "execution_count": 44,
   "id": "8917b390",
   "metadata": {},
   "outputs": [],
   "source": [
    "plotted = G.plot_with_states(sim)[0]"
   ]
  },
  {
   "cell_type": "code",
   "execution_count": null,
   "id": "7fd04d46",
   "metadata": {},
   "outputs": [],
   "source": [
    "# writer.append_data()"
   ]
  },
  {
   "cell_type": "code",
   "execution_count": 23,
   "id": "847a3985-4b9d-4555-a0ca-8e18a27869c7",
   "metadata": {},
   "outputs": [],
   "source": [
    "svg_array = G.plot_with_states(sim)"
   ]
  },
  {
   "cell_type": "code",
   "execution_count": 32,
   "id": "5277b617-0297-4552-a21b-7456eeaaf9c0",
   "metadata": {},
   "outputs": [],
   "source": [
    "svg = svg_array[0]\n"
   ]
  },
  {
   "cell_type": "code",
   "execution_count": 88,
   "id": "0dc59320",
   "metadata": {},
   "outputs": [],
   "source": [
    "path = '/home/heinwol/Documents/WinDocs/work/9_sem/nir_resource1/presentation_test/data/'\n",
    "arr = []\n",
    "# writer = imageio.get_writer(path + 'test2.mp4', format='FFMPEG', mode='I', fps=1)\n",
    "for i, it in enumerate(G.plot_with_states(sim)):\n",
    "    cairosvg.svg2png(bytestring=it.data, write_to= path + 'temp.png', dpi=200)\n",
    "    arr.append(imageio.imread(path + 'temp.png'))\n",
    "#     writer.append_data(imageio.imread(path + 'temp.png'))\n",
    "imageio.mimsave(path + 'second.gif', arr, fps=1)\n",
    "# writer.close()\n",
    "# cairosvg.svg2png(bytestring=it.data, write_to= path + f'first-{i}.png')"
   ]
  },
  {
   "cell_type": "code",
   "execution_count": 41,
   "id": "a7d5f6a0",
   "metadata": {},
   "outputs": [],
   "source": [
    "with open('/home/heinwol/Documents/WinDocs/work/9_sem/nir_resource1/data/example1-4.svg', 'w') as f:\n",
    "    f.write(G.plot_with_states(sim)[-1].data)"
   ]
  },
  {
   "cell_type": "code",
   "execution_count": 42,
   "id": "d6bd9ee8",
   "metadata": {},
   "outputs": [
    {
     "name": "stdout",
     "output_type": "stream",
     "text": [
      "\\begin{tabular}{lrrr}\n",
      "\\toprule\n",
      "{} &         0 &         1 &         2 \\\\\n",
      "t  &           &           &           \\\\\n",
      "\\midrule\n",
      "0  &  0.000000 &  0.000000 &  0.000000 \\\\\n",
      "1  &  0.500000 &  0.500000 &  0.500000 \\\\\n",
      "2  &  0.750000 &  0.472222 &  1.027778 \\\\\n",
      "3  &  1.152778 &  0.458333 &  1.013889 \\\\\n",
      "4  &  1.076389 &  0.574846 &  1.161265 \\\\\n",
      "5  &  1.192515 &  0.509645 &  1.204090 \\\\\n",
      "6  &  1.219715 &  0.545632 &  1.187779 \\\\\n",
      "7  &  1.195591 &  0.549908 &  1.231064 \\\\\n",
      "8  &  1.234970 &  0.535280 &  1.218031 \\\\\n",
      "9  &  1.219985 &  0.550829 &  1.223328 \\\\\n",
      "10 &  1.224304 &  0.543192 &  1.229574 \\\\\n",
      "11 &  1.230063 &  0.544623 &  1.223849 \\\\\n",
      "12 &  1.224093 &  0.546939 &  1.228236 \\\\\n",
      "13 &  1.228358 &  0.544164 &  1.227113 \\\\\n",
      "14 &  1.227174 &  0.545998 &  1.226646 \\\\\n",
      "15 &  1.226676 &  0.545441 &  1.227791 \\\\\n",
      "16 &  1.227807 &  0.545205 &  1.226943 \\\\\n",
      "17 &  1.226951 &  0.545699 &  1.227327 \\\\\n",
      "18 &  1.227331 &  0.545315 &  1.227343 \\\\\n",
      "19 &  1.227344 &  0.545482 &  1.227168 \\\\\n",
      "20 &  1.227169 &  0.545487 &  1.227341 \\\\\n",
      "21 &  1.227342 &  0.545409 &  1.227248 \\\\\n",
      "22 &  1.227248 &  0.545485 &  1.227265 \\\\\n",
      "23 &  1.227266 &  0.545444 &  1.227290 \\\\\n",
      "24 &  1.227290 &  0.545451 &  1.227258 \\\\\n",
      "25 &  1.227258 &  0.545462 &  1.227279 \\\\\n",
      "\\bottomrule\n",
      "\\end{tabular}\n",
      "\n"
     ]
    }
   ],
   "source": [
    "print(simple_protocol(sim).to_latex())"
   ]
  },
  {
   "cell_type": "code",
   "execution_count": 13,
   "id": "703e0eeb",
   "metadata": {},
   "outputs": [
    {
     "data": {
      "text/plain": [
       "array([[-0.6882472 ],\n",
       "       [-0.22941573],\n",
       "       [-0.6882472 ]])"
      ]
     },
     "execution_count": 13,
     "metadata": {},
     "output_type": "execute_result"
    }
   ],
   "source": [
    "null_space((G.stochastic_matrix() - np.eye(3)).T)"
   ]
  },
  {
   "cell_type": "code",
   "execution_count": 14,
   "id": "342b4304",
   "metadata": {},
   "outputs": [
    {
     "data": {
      "application/vnd.jupyter.widget-view+json": {
       "model_id": "6036dc5283f34e24a04258ddd3e93362",
       "version_major": 2,
       "version_minor": 0
      },
      "text/plain": [
       "interactive(children=(IntSlider(value=0, description='№ of iteration', max=39), Output()), _dom_classes=('widg…"
      ]
     },
     "metadata": {},
     "output_type": "display_data"
    }
   ],
   "source": [
    "sim = G.run_simulation([1, 0, 0], 40)\n",
    "plot_simulation(G, sim)"
   ]
  },
  {
   "cell_type": "code",
   "execution_count": 15,
   "id": "2cc756d0",
   "metadata": {},
   "outputs": [
    {
     "data": {
      "text/html": [
       "<div>\n",
       "<style scoped>\n",
       "    .dataframe tbody tr th:only-of-type {\n",
       "        vertical-align: middle;\n",
       "    }\n",
       "\n",
       "    .dataframe tbody tr th {\n",
       "        vertical-align: top;\n",
       "    }\n",
       "\n",
       "    .dataframe thead th {\n",
       "        text-align: right;\n",
       "    }\n",
       "</style>\n",
       "<table border=\"1\" class=\"dataframe\">\n",
       "  <thead>\n",
       "    <tr style=\"text-align: right;\">\n",
       "      <th></th>\n",
       "      <th>0</th>\n",
       "      <th>1</th>\n",
       "      <th>2</th>\n",
       "    </tr>\n",
       "    <tr>\n",
       "      <th>t</th>\n",
       "      <th></th>\n",
       "      <th></th>\n",
       "      <th></th>\n",
       "    </tr>\n",
       "  </thead>\n",
       "  <tbody>\n",
       "    <tr>\n",
       "      <th>0</th>\n",
       "      <td>1.000000</td>\n",
       "      <td>0.000000</td>\n",
       "      <td>0.000000</td>\n",
       "    </tr>\n",
       "    <tr>\n",
       "      <th>1</th>\n",
       "      <td>0.000000</td>\n",
       "      <td>0.333333</td>\n",
       "      <td>0.666667</td>\n",
       "    </tr>\n",
       "    <tr>\n",
       "      <th>2</th>\n",
       "      <td>0.666667</td>\n",
       "      <td>0.000000</td>\n",
       "      <td>0.333333</td>\n",
       "    </tr>\n",
       "    <tr>\n",
       "      <th>3</th>\n",
       "      <td>0.333333</td>\n",
       "      <td>0.222222</td>\n",
       "      <td>0.444444</td>\n",
       "    </tr>\n",
       "    <tr>\n",
       "      <th>4</th>\n",
       "      <td>0.444444</td>\n",
       "      <td>0.111111</td>\n",
       "      <td>0.444444</td>\n",
       "    </tr>\n",
       "    <tr>\n",
       "      <th>5</th>\n",
       "      <td>0.444444</td>\n",
       "      <td>0.148148</td>\n",
       "      <td>0.407407</td>\n",
       "    </tr>\n",
       "    <tr>\n",
       "      <th>6</th>\n",
       "      <td>0.407407</td>\n",
       "      <td>0.148148</td>\n",
       "      <td>0.444444</td>\n",
       "    </tr>\n",
       "    <tr>\n",
       "      <th>7</th>\n",
       "      <td>0.444444</td>\n",
       "      <td>0.135802</td>\n",
       "      <td>0.419753</td>\n",
       "    </tr>\n",
       "    <tr>\n",
       "      <th>8</th>\n",
       "      <td>0.419753</td>\n",
       "      <td>0.148148</td>\n",
       "      <td>0.432099</td>\n",
       "    </tr>\n",
       "    <tr>\n",
       "      <th>9</th>\n",
       "      <td>0.432099</td>\n",
       "      <td>0.139918</td>\n",
       "      <td>0.427984</td>\n",
       "    </tr>\n",
       "    <tr>\n",
       "      <th>10</th>\n",
       "      <td>0.427984</td>\n",
       "      <td>0.144033</td>\n",
       "      <td>0.427984</td>\n",
       "    </tr>\n",
       "    <tr>\n",
       "      <th>11</th>\n",
       "      <td>0.427984</td>\n",
       "      <td>0.142661</td>\n",
       "      <td>0.429355</td>\n",
       "    </tr>\n",
       "    <tr>\n",
       "      <th>12</th>\n",
       "      <td>0.429355</td>\n",
       "      <td>0.142661</td>\n",
       "      <td>0.427984</td>\n",
       "    </tr>\n",
       "    <tr>\n",
       "      <th>13</th>\n",
       "      <td>0.427984</td>\n",
       "      <td>0.143118</td>\n",
       "      <td>0.428898</td>\n",
       "    </tr>\n",
       "    <tr>\n",
       "      <th>14</th>\n",
       "      <td>0.428898</td>\n",
       "      <td>0.142661</td>\n",
       "      <td>0.428441</td>\n",
       "    </tr>\n",
       "    <tr>\n",
       "      <th>15</th>\n",
       "      <td>0.428441</td>\n",
       "      <td>0.142966</td>\n",
       "      <td>0.428593</td>\n",
       "    </tr>\n",
       "    <tr>\n",
       "      <th>16</th>\n",
       "      <td>0.428593</td>\n",
       "      <td>0.142814</td>\n",
       "      <td>0.428593</td>\n",
       "    </tr>\n",
       "    <tr>\n",
       "      <th>17</th>\n",
       "      <td>0.428593</td>\n",
       "      <td>0.142864</td>\n",
       "      <td>0.428542</td>\n",
       "    </tr>\n",
       "    <tr>\n",
       "      <th>18</th>\n",
       "      <td>0.428542</td>\n",
       "      <td>0.142864</td>\n",
       "      <td>0.428593</td>\n",
       "    </tr>\n",
       "    <tr>\n",
       "      <th>19</th>\n",
       "      <td>0.428593</td>\n",
       "      <td>0.142847</td>\n",
       "      <td>0.428559</td>\n",
       "    </tr>\n",
       "    <tr>\n",
       "      <th>20</th>\n",
       "      <td>0.428559</td>\n",
       "      <td>0.142864</td>\n",
       "      <td>0.428576</td>\n",
       "    </tr>\n",
       "    <tr>\n",
       "      <th>21</th>\n",
       "      <td>0.428576</td>\n",
       "      <td>0.142853</td>\n",
       "      <td>0.428571</td>\n",
       "    </tr>\n",
       "    <tr>\n",
       "      <th>22</th>\n",
       "      <td>0.428571</td>\n",
       "      <td>0.142859</td>\n",
       "      <td>0.428571</td>\n",
       "    </tr>\n",
       "    <tr>\n",
       "      <th>23</th>\n",
       "      <td>0.428571</td>\n",
       "      <td>0.142857</td>\n",
       "      <td>0.428573</td>\n",
       "    </tr>\n",
       "    <tr>\n",
       "      <th>24</th>\n",
       "      <td>0.428573</td>\n",
       "      <td>0.142857</td>\n",
       "      <td>0.428571</td>\n",
       "    </tr>\n",
       "    <tr>\n",
       "      <th>25</th>\n",
       "      <td>0.428571</td>\n",
       "      <td>0.142858</td>\n",
       "      <td>0.428572</td>\n",
       "    </tr>\n",
       "    <tr>\n",
       "      <th>26</th>\n",
       "      <td>0.428572</td>\n",
       "      <td>0.142857</td>\n",
       "      <td>0.428571</td>\n",
       "    </tr>\n",
       "    <tr>\n",
       "      <th>27</th>\n",
       "      <td>0.428571</td>\n",
       "      <td>0.142857</td>\n",
       "      <td>0.428571</td>\n",
       "    </tr>\n",
       "    <tr>\n",
       "      <th>28</th>\n",
       "      <td>0.428571</td>\n",
       "      <td>0.142857</td>\n",
       "      <td>0.428571</td>\n",
       "    </tr>\n",
       "    <tr>\n",
       "      <th>29</th>\n",
       "      <td>0.428571</td>\n",
       "      <td>0.142857</td>\n",
       "      <td>0.428571</td>\n",
       "    </tr>\n",
       "    <tr>\n",
       "      <th>30</th>\n",
       "      <td>0.428571</td>\n",
       "      <td>0.142857</td>\n",
       "      <td>0.428571</td>\n",
       "    </tr>\n",
       "    <tr>\n",
       "      <th>31</th>\n",
       "      <td>0.428571</td>\n",
       "      <td>0.142857</td>\n",
       "      <td>0.428571</td>\n",
       "    </tr>\n",
       "    <tr>\n",
       "      <th>32</th>\n",
       "      <td>0.428571</td>\n",
       "      <td>0.142857</td>\n",
       "      <td>0.428571</td>\n",
       "    </tr>\n",
       "    <tr>\n",
       "      <th>33</th>\n",
       "      <td>0.428571</td>\n",
       "      <td>0.142857</td>\n",
       "      <td>0.428571</td>\n",
       "    </tr>\n",
       "    <tr>\n",
       "      <th>34</th>\n",
       "      <td>0.428571</td>\n",
       "      <td>0.142857</td>\n",
       "      <td>0.428571</td>\n",
       "    </tr>\n",
       "    <tr>\n",
       "      <th>35</th>\n",
       "      <td>0.428571</td>\n",
       "      <td>0.142857</td>\n",
       "      <td>0.428571</td>\n",
       "    </tr>\n",
       "    <tr>\n",
       "      <th>36</th>\n",
       "      <td>0.428571</td>\n",
       "      <td>0.142857</td>\n",
       "      <td>0.428571</td>\n",
       "    </tr>\n",
       "    <tr>\n",
       "      <th>37</th>\n",
       "      <td>0.428571</td>\n",
       "      <td>0.142857</td>\n",
       "      <td>0.428571</td>\n",
       "    </tr>\n",
       "    <tr>\n",
       "      <th>38</th>\n",
       "      <td>0.428571</td>\n",
       "      <td>0.142857</td>\n",
       "      <td>0.428571</td>\n",
       "    </tr>\n",
       "    <tr>\n",
       "      <th>39</th>\n",
       "      <td>0.428571</td>\n",
       "      <td>0.142857</td>\n",
       "      <td>0.428571</td>\n",
       "    </tr>\n",
       "  </tbody>\n",
       "</table>\n",
       "</div>"
      ],
      "text/plain": [
       "           0         1         2\n",
       "t                               \n",
       "0   1.000000  0.000000  0.000000\n",
       "1   0.000000  0.333333  0.666667\n",
       "2   0.666667  0.000000  0.333333\n",
       "3   0.333333  0.222222  0.444444\n",
       "4   0.444444  0.111111  0.444444\n",
       "5   0.444444  0.148148  0.407407\n",
       "6   0.407407  0.148148  0.444444\n",
       "7   0.444444  0.135802  0.419753\n",
       "8   0.419753  0.148148  0.432099\n",
       "9   0.432099  0.139918  0.427984\n",
       "10  0.427984  0.144033  0.427984\n",
       "11  0.427984  0.142661  0.429355\n",
       "12  0.429355  0.142661  0.427984\n",
       "13  0.427984  0.143118  0.428898\n",
       "14  0.428898  0.142661  0.428441\n",
       "15  0.428441  0.142966  0.428593\n",
       "16  0.428593  0.142814  0.428593\n",
       "17  0.428593  0.142864  0.428542\n",
       "18  0.428542  0.142864  0.428593\n",
       "19  0.428593  0.142847  0.428559\n",
       "20  0.428559  0.142864  0.428576\n",
       "21  0.428576  0.142853  0.428571\n",
       "22  0.428571  0.142859  0.428571\n",
       "23  0.428571  0.142857  0.428573\n",
       "24  0.428573  0.142857  0.428571\n",
       "25  0.428571  0.142858  0.428572\n",
       "26  0.428572  0.142857  0.428571\n",
       "27  0.428571  0.142857  0.428571\n",
       "28  0.428571  0.142857  0.428571\n",
       "29  0.428571  0.142857  0.428571\n",
       "30  0.428571  0.142857  0.428571\n",
       "31  0.428571  0.142857  0.428571\n",
       "32  0.428571  0.142857  0.428571\n",
       "33  0.428571  0.142857  0.428571\n",
       "34  0.428571  0.142857  0.428571\n",
       "35  0.428571  0.142857  0.428571\n",
       "36  0.428571  0.142857  0.428571\n",
       "37  0.428571  0.142857  0.428571\n",
       "38  0.428571  0.142857  0.428571\n",
       "39  0.428571  0.142857  0.428571"
      ]
     },
     "execution_count": 15,
     "metadata": {},
     "output_type": "execute_result"
    }
   ],
   "source": [
    "prot = simple_protocol(sim)\n",
    "# prot.diff().abs().sum(axis=1).diff()\n",
    "prot"
   ]
  },
  {
   "cell_type": "markdown",
   "id": "452ec16a",
   "metadata": {},
   "source": [
    "---"
   ]
  },
  {
   "cell_type": "code",
   "execution_count": null,
   "id": "a8224da9",
   "metadata": {},
   "outputs": [],
   "source": []
  },
  {
   "cell_type": "markdown",
   "id": "5a428582",
   "metadata": {},
   "source": [
    "---"
   ]
  },
  {
   "cell_type": "code",
   "execution_count": null,
   "id": "cbe00fd4",
   "metadata": {},
   "outputs": [],
   "source": [
    "\n",
    "\n",
    "\n",
    "\n",
    "\n",
    "\n",
    "\n",
    "\n",
    "\n",
    "\n",
    "\n",
    "\n",
    "\n",
    "\n"
   ]
  }
 ],
 "metadata": {
  "kernelspec": {
   "display_name": "Python 3 (ipykernel)",
   "language": "python",
   "name": "python3"
  },
  "language_info": {
   "codemirror_mode": {
    "name": "ipython",
    "version": 3
   },
   "file_extension": ".py",
   "mimetype": "text/x-python",
   "name": "python",
   "nbconvert_exporter": "python",
   "pygments_lexer": "ipython3",
   "version": "3.11.4"
  }
 },
 "nbformat": 4,
 "nbformat_minor": 5
}
