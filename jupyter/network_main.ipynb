{
 "cells": [
  {
   "cell_type": "code",
   "execution_count": 1,
   "id": "8122536b-12dd-4ed2-bb86-784fc55d5051",
   "metadata": {},
   "outputs": [],
   "source": [
    "import sys\n",
    "sys.path.append('..')\n",
    "\n",
    "%reload_ext autoreload\n",
    "%autoreload 2\n",
    "%aimport sponge_networks\n",
    "# # %aimport sponge_networks.utils"
   ]
  },
  {
   "cell_type": "code",
   "execution_count": 2,
   "id": "d2e6c76f-f590-4fee-897e-c0ede2a2367b",
   "metadata": {},
   "outputs": [],
   "source": [
    "import sponge_networks as sn\n",
    "# from sponge_networks import sponge_networks \n",
    "\n",
    "import matplotlib.pyplot as plt\n",
    "plt.rcParams[\"figure.figsize\"] = (10, 7)\n",
    "plt.rcParams[\"axes.grid\"] = True\n",
    "plt.rcParams[\"font.size\"] = 12\n",
    "%matplotlib inline\n",
    "\n",
    "import numpy as np\n",
    "import networkx as nx\n",
    "import pandas as pd"
   ]
  },
  {
   "cell_type": "markdown",
   "id": "9721b3a6-5879-48b5-be96-23909a3837c9",
   "metadata": {},
   "source": [
    "## Layouts"
   ]
  },
  {
   "cell_type": "code",
   "execution_count": 3,
   "id": "d8d29daf-9181-420f-a3c6-01fec02b531c",
   "metadata": {},
   "outputs": [],
   "source": [
    "nw = sn.build_sponge_network(\n",
    "    grid_type=\"hexagonal\", n_cols=1, n_rows=1,\n",
    "    layout={\n",
    "        \"weights_sink_edge\": 1,\n",
    "        \"weights_loop\": 1,\n",
    "        \"weights_horizontal\": 2,\n",
    "        \"weights_up_down\": 5,\n",
    "        \"weights_down_up\": 1,\n",
    "    },\n",
    "    generate_sinks=True,\n",
    "    visual_sink_edge_length=1.\n",
    ")"
   ]
  },
  {
   "cell_type": "code",
   "execution_count": 4,
   "id": "d53a35c9-77e4-48d5-a8e4-13f7b3072e1c",
   "metadata": {},
   "outputs": [],
   "source": [
    "# nw.resource_network.plot()"
   ]
  },
  {
   "cell_type": "code",
   "execution_count": 5,
   "id": "14e9d69d-7cb0-4ab8-9e08-98c8a7625c77",
   "metadata": {},
   "outputs": [
    {
     "ename": "NameError",
     "evalue": "name 'sim' is not defined",
     "output_type": "error",
     "traceback": [
      "\u001b[0;31m---------------------------------------------------------------------------\u001b[0m",
      "\u001b[0;31mNameError\u001b[0m                                 Traceback (most recent call last)",
      "Cell \u001b[0;32mIn[5], line 1\u001b[0m\n\u001b[0;32m----> 1\u001b[0m df \u001b[38;5;241m=\u001b[39m \u001b[43msim\u001b[49m\u001b[38;5;241m.\u001b[39msimple_protocol()\n\u001b[1;32m      2\u001b[0m df\u001b[38;5;241m.\u001b[39msum(\u001b[38;5;241m1\u001b[39m)\n",
      "\u001b[0;31mNameError\u001b[0m: name 'sim' is not defined"
     ]
    }
   ],
   "source": [
    "df = sim.simple_protocol()\n",
    "df.sum(1)"
   ]
  },
  {
   "cell_type": "code",
   "execution_count": 6,
   "id": "8b91dcb0-fb07-4922-999a-6589be0ace63",
   "metadata": {},
   "outputs": [
    {
     "data": {
      "application/vnd.jupyter.widget-view+json": {
       "model_id": "de8f94305f3d414e8e0667b91c83f47f",
       "version_major": 2,
       "version_minor": 0
      },
      "text/plain": [
       "interactive(children=(IntSlider(value=0, description='№ of iteration', max=99), Output()), _dom_classes=('widg…"
      ]
     },
     "metadata": {},
     "output_type": "display_data"
    }
   ],
   "source": [
    "sim = nw.run_sponge_simulation([50, 0], n_iters=100)\n",
    "nw.plot_simulation(sim, scale=1.2)"
   ]
  },
  {
   "cell_type": "code",
   "execution_count": null,
   "id": "f2785446-8bca-445d-bf45-0c18e03c3fc9",
   "metadata": {},
   "outputs": [],
   "source": [
    "4 * 5/6"
   ]
  },
  {
   "cell_type": "code",
   "execution_count": null,
   "id": "e681f0f5-579a-4e67-9a1f-36cd39ad336d",
   "metadata": {},
   "outputs": [],
   "source": [
    "nw.resource_network.G.nodes()"
   ]
  },
  {
   "cell_type": "code",
   "execution_count": null,
   "id": "2e608e24-410f-4ee6-bfe0-4b6586d97940",
   "metadata": {},
   "outputs": [],
   "source": [
    "R = np.array([\n",
    "        [0, 1, 2],\n",
    "        [1, 0, 0],\n",
    "        [1, 3, 0]\n",
    "    ])\n",
    "rn = sn.resource_networks.ResourceNetwork(nx.from_numpy_array(R, create_using=nx.DiGraph))"
   ]
  },
  {
   "cell_type": "code",
   "execution_count": null,
   "id": "6c162550-6e3c-49d4-86f5-151fbaba098a",
   "metadata": {},
   "outputs": [],
   "source": [
    "R"
   ]
  },
  {
   "cell_type": "code",
   "execution_count": null,
   "id": "696aa541-e692-4e73-bc41-6d6c20397449",
   "metadata": {},
   "outputs": [],
   "source": [
    "rn.stochastic_matrix"
   ]
  },
  {
   "cell_type": "code",
   "execution_count": null,
   "id": "67202550-b3ac-4aca-a647-c0416320e15a",
   "metadata": {},
   "outputs": [],
   "source": [
    "v = np.array([[1, 1, 2]])\n",
    "np.tensordot(v, np.array([1, 1, 1]), 0)"
   ]
  },
  {
   "cell_type": "code",
   "execution_count": null,
   "id": "dc586d88-457b-454a-9431-bee826c2886b",
   "metadata": {},
   "outputs": [],
   "source": [
    "(np.array([1, 1, 1])@R)"
   ]
  }
 ],
 "metadata": {
  "kernelspec": {
   "display_name": "Python 3 (ipykernel)",
   "language": "python",
   "name": "python3"
  },
  "language_info": {
   "codemirror_mode": {
    "name": "ipython",
    "version": 3
   },
   "file_extension": ".py",
   "mimetype": "text/x-python",
   "name": "python",
   "nbconvert_exporter": "python",
   "pygments_lexer": "ipython3",
   "version": "3.11.4"
  }
 },
 "nbformat": 4,
 "nbformat_minor": 5
}
