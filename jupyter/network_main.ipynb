{
 "cells": [
  {
   "cell_type": "code",
   "execution_count": 2,
   "id": "8122536b-12dd-4ed2-bb86-784fc55d5051",
   "metadata": {},
   "outputs": [],
   "source": [
    "import sys\n",
    "sys.path.append('..')\n",
    "\n",
    "%reload_ext autoreload\n",
    "%autoreload 2\n",
    "# %aimport sponge_networks\n",
    "# %aimport sponge_networks.utils"
   ]
  },
  {
   "cell_type": "code",
   "execution_count": 3,
   "id": "d2e6c76f-f590-4fee-897e-c0ede2a2367b",
   "metadata": {},
   "outputs": [],
   "source": [
    "import sponge_networks as rn\n",
    "\n",
    "import matplotlib.pyplot as plt\n",
    "plt.rcParams[\"figure.figsize\"] = (10, 7)\n",
    "plt.rcParams[\"axes.grid\"] = True\n",
    "plt.rcParams[\"font.size\"] = 12\n",
    "%matplotlib inline\n",
    "\n",
    "import numpy as np\n",
    "import networkx as nx\n",
    "import scipy\n",
    "import cairosvg\n",
    "import imageio\n",
    "import pandas as pd\n",
    "from IPython.lib import pretty\n",
    "from toolz import *\n",
    "from typing import Protocol\n",
    "# import abc\n",
    "\n",
    "# import plotly.graph_objs as go\n",
    "# import plotly.express as px\n",
    "\n",
    "from scipy.linalg import null_space"
   ]
  },
  {
   "cell_type": "markdown",
   "id": "9721b3a6-5879-48b5-be96-23909a3837c9",
   "metadata": {},
   "source": [
    "## Layouts"
   ]
  },
  {
   "cell_type": "code",
   "execution_count": 89,
   "id": "8b91dcb0-fb07-4922-999a-6589be0ace63",
   "metadata": {},
   "outputs": [
    {
     "data": {
      "application/vnd.jupyter.widget-view+json": {
       "model_id": "41a5c2c68e9b437e88bc46be4176e331",
       "version_major": 2,
       "version_minor": 0
      },
      "text/plain": [
       "interactive(children=(IntSlider(value=0, description='№ of iteration', max=99), Output()), _dom_classes=('widg…"
      ]
     },
     "metadata": {},
     "output_type": "display_data"
    }
   ],
   "source": [
    "nw = rn.SpongeNetwork(rn.SpongeNetworkHexagonalBuilder(n_cols=4, n_rows=3, layout=rn.LayoutTriangular(\n",
    "    weights_sink_edge=1,\n",
    "    weights_loop=1,\n",
    "    weights_horizontal=4,\n",
    "    weights_up_down=5,\n",
    "    weights_down_up=1\n",
    ")))\n",
    "sim = nw.run_sponge_simulation([10, 20, 0, 30], n_iters=100)\n",
    "nw.plot_simulation(sim, scale=1.)"
   ]
  },
  {
   "cell_type": "code",
   "execution_count": 90,
   "id": "7aa9dbc6-12ff-445d-9db9-c7ed9616bc9a",
   "metadata": {},
   "outputs": [
    {
     "data": {
      "text/plain": [
       "t\n",
       "0     60.0\n",
       "1     60.0\n",
       "2     60.0\n",
       "3     60.0\n",
       "4     60.0\n",
       "      ... \n",
       "95    60.0\n",
       "96    60.0\n",
       "97    60.0\n",
       "98    60.0\n",
       "99    60.0\n",
       "Length: 100, dtype: float64"
      ]
     },
     "execution_count": 90,
     "metadata": {},
     "output_type": "execute_result"
    }
   ],
   "source": [
    "it = sim.simple_protocol()\n",
    "it.sum(axis=1)"
   ]
  },
  {
   "cell_type": "code",
   "execution_count": 21,
   "id": "a4e72b56-eb48-407c-850e-7c1cb8ec4773",
   "metadata": {},
   "outputs": [
    {
     "data": {
      "application/vnd.jupyter.widget-view+json": {
       "model_id": "ac73df2ebb3a48e3b8dc21c205d054fc",
       "version_major": 2,
       "version_minor": 0
      },
      "text/plain": [
       "interactive(children=(IntSlider(value=0, description='№ of iteration', max=2), Output()), _dom_classes=('widge…"
      ]
     },
     "metadata": {},
     "output_type": "display_data"
    }
   ],
   "source": [
    "gr = rn.grid_with_positions(3, 4, grid_type=\"grid_2d\")\n",
    "nw = rn.ResourceNetworkGreedy(gr)\n",
    "sim = nw.run_simulation(np.random.randint(0, 2, size=len(nw)), n_iters=3)\n",
    "rn.plot_simulation(nw, sim, scale=1.4)"
   ]
  },
  {
   "cell_type": "code",
   "execution_count": 78,
   "id": "f0888c74-be8c-42eb-9671-e28439061d34",
   "metadata": {},
   "outputs": [
    {
     "data": {
      "image/svg+xml": [
       "<svg xmlns=\"http://www.w3.org/2000/svg\" xmlns:xlink=\"http://www.w3.org/1999/xlink\" width=\"339pt\" height=\"399pt\" viewBox=\"0.00 0.00 339.00 398.77\">\n",
       "<g id=\"graph0\" class=\"graph\" transform=\"scale(1 1) rotate(0) translate(4 394.77)\">\n",
       "<title>%3</title>\n",
       "<polygon fill=\"white\" stroke=\"transparent\" points=\"-4,4 -4,-394.77 335,-394.77 335,4 -4,4\"/>\n",
       "<!-- (0, 0) -->\n",
       "<g id=\"node1\" class=\"node\">\n",
       "<title>(0, 0)</title>\n",
       "<g id=\"a_node1\"><a xlink:title=\"(0, 0)\">\n",
       "<ellipse fill=\"#f0fff4\" stroke=\"black\" cx=\"75.5\" cy=\"-39.5\" rx=\"12.5\" ry=\"12.5\"/>\n",
       "<text text-anchor=\"middle\" x=\"75.5\" y=\"-37\" font-family=\"Times,serif\" font-size=\"10.00\">0.</text>\n",
       "</a>\n",
       "</g>\n",
       "</g>\n",
       "<!-- (0, 1) -->\n",
       "<g id=\"node2\" class=\"node\">\n",
       "<title>(0, 1)</title>\n",
       "<g id=\"a_node2\"><a xlink:title=\"(0, 1)\">\n",
       "<ellipse fill=\"#f0fff4\" stroke=\"black\" cx=\"39.5\" cy=\"-101.85\" rx=\"12.5\" ry=\"12.5\"/>\n",
       "<text text-anchor=\"middle\" x=\"39.5\" y=\"-99.35\" font-family=\"Times,serif\" font-size=\"10.00\">0.</text>\n",
       "</a>\n",
       "</g>\n",
       "</g>\n",
       "<!-- (0, 0)&#45;&gt;(0, 1) -->\n",
       "<g id=\"edge1\" class=\"edge\">\n",
       "<title>(0, 0)-&gt;(0, 1)</title>\n",
       "<path fill=\"none\" stroke=\"#f3ad5c\" stroke-width=\"3.58\" stroke-opacity=\"0.600000\" d=\"M65.29,-46.96C57.73,-56.21 48.32,-72.04 42.88,-84.38\"/>\n",
       "<polygon fill=\"#f3ad5c\" fill-opacity=\"0.600000\" stroke=\"#f3ad5c\" stroke-width=\"3.58\" stroke-opacity=\"0.600000\" points=\"41.23,-83.79 40.93,-89.08 44.46,-85.13 41.23,-83.79\"/>\n",
       "<text text-anchor=\"middle\" x=\"49.08\" y=\"-69.47\" font-family=\"Times,serif\" font-size=\"14.00\">7</text>\n",
       "</g>\n",
       "<!-- (1, 0) -->\n",
       "<g id=\"node6\" class=\"node\">\n",
       "<title>(1, 0)</title>\n",
       "<g id=\"a_node6\"><a xlink:title=\"(1, 0)\">\n",
       "<ellipse fill=\"#f0fff4\" stroke=\"black\" cx=\"147.5\" cy=\"-39.5\" rx=\"12.5\" ry=\"12.5\"/>\n",
       "<text text-anchor=\"middle\" x=\"147.5\" y=\"-37\" font-family=\"Times,serif\" font-size=\"10.00\">0.</text>\n",
       "</a>\n",
       "</g>\n",
       "</g>\n",
       "<!-- (0, 0)&#45;&gt;(1, 0) -->\n",
       "<g id=\"edge2\" class=\"edge\">\n",
       "<title>(0, 0)-&gt;(1, 0)</title>\n",
       "<path fill=\"none\" stroke=\"#f3ad5c\" stroke-width=\"2.65\" stroke-opacity=\"0.600000\" d=\"M87.07,-44.61C98.86,-46.53 117.27,-46.76 130.68,-45.31\"/>\n",
       "<polygon fill=\"#f3ad5c\" fill-opacity=\"0.600000\" stroke=\"#f3ad5c\" stroke-width=\"2.65\" stroke-opacity=\"0.600000\" points=\"130.99,-47.04 135.72,-44.65 130.54,-43.57 130.99,-47.04\"/>\n",
       "<text text-anchor=\"middle\" x=\"103.87\" y=\"-48.76\" font-family=\"Times,serif\" font-size=\"14.00\">5</text>\n",
       "</g>\n",
       "<!-- (0, 1)&#45;&gt;(0, 0) -->\n",
       "<g id=\"edge3\" class=\"edge\">\n",
       "<title>(0, 1)-&gt;(0, 0)</title>\n",
       "<path fill=\"none\" stroke=\"#f3ad5c\" stroke-width=\"3.11\" stroke-opacity=\"0.600000\" d=\"M49.71,-94.39C57.27,-85.14 66.68,-69.31 72.12,-56.98\"/>\n",
       "<polygon fill=\"#f3ad5c\" fill-opacity=\"0.600000\" stroke=\"#f3ad5c\" stroke-width=\"3.11\" stroke-opacity=\"0.600000\" points=\"73.77,-57.56 74.07,-52.27 70.54,-56.23 73.77,-57.56\"/>\n",
       "<text text-anchor=\"middle\" x=\"65.92\" y=\"-79.49\" font-family=\"Times,serif\" font-size=\"14.00\">6</text>\n",
       "</g>\n",
       "<!-- (0, 2) -->\n",
       "<g id=\"node3\" class=\"node\">\n",
       "<title>(0, 2)</title>\n",
       "<g id=\"a_node3\"><a xlink:title=\"(0, 2)\">\n",
       "<ellipse fill=\"#f0fff4\" stroke=\"black\" cx=\"75.5\" cy=\"-164.21\" rx=\"12.5\" ry=\"12.5\"/>\n",
       "<text text-anchor=\"middle\" x=\"75.5\" y=\"-161.71\" font-family=\"Times,serif\" font-size=\"10.00\">0.</text>\n",
       "</a>\n",
       "</g>\n",
       "</g>\n",
       "<!-- (0, 1)&#45;&gt;(0, 2) -->\n",
       "<g id=\"edge4\" class=\"edge\">\n",
       "<title>(0, 1)-&gt;(0, 2)</title>\n",
       "<path fill=\"none\" stroke=\"#f3ad5c\" stroke-width=\"4.5\" stroke-opacity=\"0.600000\" d=\"M40.85,-114.43C45.09,-125.6 54.1,-141.66 62.05,-152.54\"/>\n",
       "<polygon fill=\"#f3ad5c\" fill-opacity=\"0.600000\" stroke=\"#f3ad5c\" stroke-width=\"4.5\" stroke-opacity=\"0.600000\" points=\"60.55,-153.81 65.15,-156.58 63.67,-151.42 60.55,-153.81\"/>\n",
       "<text text-anchor=\"middle\" x=\"46.45\" y=\"-122.29\" font-family=\"Times,serif\" font-size=\"14.00\">9</text>\n",
       "</g>\n",
       "<!-- (0, 2)&#45;&gt;(0, 1) -->\n",
       "<g id=\"edge5\" class=\"edge\">\n",
       "<title>(0, 2)-&gt;(0, 1)</title>\n",
       "<path fill=\"none\" stroke=\"#f3ad5c\" stroke-width=\"2.19\" stroke-opacity=\"0.600000\" d=\"M74.15,-151.63C69.91,-140.46 60.9,-124.4 52.95,-113.52\"/>\n",
       "<polygon fill=\"#f3ad5c\" fill-opacity=\"0.600000\" stroke=\"#f3ad5c\" stroke-width=\"2.19\" stroke-opacity=\"0.600000\" points=\"54.28,-112.38 49.85,-109.48 51.5,-114.51 54.28,-112.38\"/>\n",
       "<text text-anchor=\"middle\" x=\"58.55\" y=\"-121.37\" font-family=\"Times,serif\" font-size=\"14.00\">4</text>\n",
       "</g>\n",
       "<!-- (0, 3) -->\n",
       "<g id=\"node4\" class=\"node\">\n",
       "<title>(0, 3)</title>\n",
       "<g id=\"a_node4\"><a xlink:title=\"(0, 3)\">\n",
       "<ellipse fill=\"#f0fff4\" stroke=\"black\" cx=\"39.5\" cy=\"-226.56\" rx=\"12.5\" ry=\"12.5\"/>\n",
       "<text text-anchor=\"middle\" x=\"39.5\" y=\"-224.06\" font-family=\"Times,serif\" font-size=\"10.00\">0.</text>\n",
       "</a>\n",
       "</g>\n",
       "</g>\n",
       "<!-- (0, 2)&#45;&gt;(0, 3) -->\n",
       "<g id=\"edge6\" class=\"edge\">\n",
       "<title>(0, 2)-&gt;(0, 3)</title>\n",
       "<path fill=\"none\" stroke=\"#f3ad5c\" stroke-width=\"2.65\" stroke-opacity=\"0.600000\" d=\"M65.29,-171.67C57.73,-180.92 48.32,-196.75 42.88,-209.08\"/>\n",
       "<polygon fill=\"#f3ad5c\" fill-opacity=\"0.600000\" stroke=\"#f3ad5c\" stroke-width=\"2.65\" stroke-opacity=\"0.600000\" points=\"41.23,-208.5 40.93,-213.79 44.46,-209.84 41.23,-208.5\"/>\n",
       "<text text-anchor=\"middle\" x=\"49.08\" y=\"-179.18\" font-family=\"Times,serif\" font-size=\"14.00\">5</text>\n",
       "</g>\n",
       "<!-- (1, 2) -->\n",
       "<g id=\"node8\" class=\"node\">\n",
       "<title>(1, 2)</title>\n",
       "<g id=\"a_node8\"><a xlink:title=\"(1, 2)\">\n",
       "<ellipse fill=\"#f0fff4\" stroke=\"black\" cx=\"147.5\" cy=\"-164.21\" rx=\"12.5\" ry=\"12.5\"/>\n",
       "<text text-anchor=\"middle\" x=\"147.5\" y=\"-161.71\" font-family=\"Times,serif\" font-size=\"10.00\">0.</text>\n",
       "</a>\n",
       "</g>\n",
       "</g>\n",
       "<!-- (0, 2)&#45;&gt;(1, 2) -->\n",
       "<g id=\"edge7\" class=\"edge\">\n",
       "<title>(0, 2)-&gt;(1, 2)</title>\n",
       "<path fill=\"none\" stroke=\"#f3ad5c\" stroke-width=\"2.65\" stroke-opacity=\"0.600000\" d=\"M87.07,-169.32C98.86,-171.24 117.27,-171.47 130.68,-170.02\"/>\n",
       "<polygon fill=\"#f3ad5c\" fill-opacity=\"0.600000\" stroke=\"#f3ad5c\" stroke-width=\"2.65\" stroke-opacity=\"0.600000\" points=\"130.99,-171.75 135.72,-169.36 130.54,-168.28 130.99,-171.75\"/>\n",
       "<text text-anchor=\"middle\" x=\"103.87\" y=\"-173.47\" font-family=\"Times,serif\" font-size=\"14.00\">5</text>\n",
       "</g>\n",
       "<!-- (0, 3)&#45;&gt;(0, 2) -->\n",
       "<g id=\"edge8\" class=\"edge\">\n",
       "<title>(0, 3)-&gt;(0, 2)</title>\n",
       "<path fill=\"none\" stroke=\"#f3ad5c\" stroke-width=\"1.26\" stroke-opacity=\"0.600000\" d=\"M49.71,-219.1C57.27,-209.85 66.68,-194.02 72.12,-181.69\"/>\n",
       "<polygon fill=\"#f3ad5c\" fill-opacity=\"0.600000\" stroke=\"#f3ad5c\" stroke-width=\"1.26\" stroke-opacity=\"0.600000\" points=\"73.77,-182.27 74.07,-176.98 70.54,-180.93 73.77,-182.27\"/>\n",
       "<text text-anchor=\"middle\" x=\"65.92\" y=\"-189.19\" font-family=\"Times,serif\" font-size=\"14.00\">2</text>\n",
       "</g>\n",
       "<!-- (0, 4) -->\n",
       "<g id=\"node5\" class=\"node\">\n",
       "<title>(0, 4)</title>\n",
       "<g id=\"a_node5\"><a xlink:title=\"(0, 4)\">\n",
       "<ellipse fill=\"#f0fff4\" stroke=\"black\" cx=\"75.5\" cy=\"-288.92\" rx=\"12.5\" ry=\"12.5\"/>\n",
       "<text text-anchor=\"middle\" x=\"75.5\" y=\"-286.42\" font-family=\"Times,serif\" font-size=\"10.00\">0.</text>\n",
       "</a>\n",
       "</g>\n",
       "</g>\n",
       "<!-- (0, 3)&#45;&gt;(0, 4) -->\n",
       "<g id=\"edge9\" class=\"edge\">\n",
       "<title>(0, 3)-&gt;(0, 4)</title>\n",
       "<path fill=\"none\" stroke=\"#f3ad5c\" stroke-width=\"3.11\" stroke-opacity=\"0.600000\" d=\"M40.85,-239.14C45.09,-250.31 54.1,-266.37 62.05,-277.25\"/>\n",
       "<polygon fill=\"#f3ad5c\" fill-opacity=\"0.600000\" stroke=\"#f3ad5c\" stroke-width=\"3.11\" stroke-opacity=\"0.600000\" points=\"60.72,-278.39 65.15,-281.29 63.5,-276.26 60.72,-278.39\"/>\n",
       "<text text-anchor=\"middle\" x=\"46.45\" y=\"-246.99\" font-family=\"Times,serif\" font-size=\"14.00\">6</text>\n",
       "</g>\n",
       "<!-- (0, 4)&#45;&gt;(0, 3) -->\n",
       "<g id=\"edge10\" class=\"edge\">\n",
       "<title>(0, 4)-&gt;(0, 3)</title>\n",
       "<path fill=\"none\" stroke=\"#f3ad5c\" stroke-width=\"3.11\" stroke-opacity=\"0.600000\" d=\"M74.15,-276.34C69.91,-265.17 60.9,-249.11 52.95,-238.22\"/>\n",
       "<polygon fill=\"#f3ad5c\" fill-opacity=\"0.600000\" stroke=\"#f3ad5c\" stroke-width=\"3.11\" stroke-opacity=\"0.600000\" points=\"54.28,-237.09 49.85,-234.19 51.5,-239.22 54.28,-237.09\"/>\n",
       "<text text-anchor=\"middle\" x=\"58.55\" y=\"-246.08\" font-family=\"Times,serif\" font-size=\"14.00\">6</text>\n",
       "</g>\n",
       "<!-- (1, 4) -->\n",
       "<g id=\"node10\" class=\"node\">\n",
       "<title>(1, 4)</title>\n",
       "<g id=\"a_node10\"><a xlink:title=\"(1, 4)\">\n",
       "<ellipse fill=\"#f0fff4\" stroke=\"black\" cx=\"147.5\" cy=\"-288.92\" rx=\"12.5\" ry=\"12.5\"/>\n",
       "<text text-anchor=\"middle\" x=\"147.5\" y=\"-286.42\" font-family=\"Times,serif\" font-size=\"10.00\">0.</text>\n",
       "</a>\n",
       "</g>\n",
       "</g>\n",
       "<!-- (0, 4)&#45;&gt;(1, 4) -->\n",
       "<g id=\"edge11\" class=\"edge\">\n",
       "<title>(0, 4)-&gt;(1, 4)</title>\n",
       "<path fill=\"none\" stroke=\"#f3ad5c\" stroke-width=\"1.73\" stroke-opacity=\"0.600000\" d=\"M87.07,-294.03C98.86,-295.94 117.27,-296.18 130.68,-294.73\"/>\n",
       "<polygon fill=\"#f3ad5c\" fill-opacity=\"0.600000\" stroke=\"#f3ad5c\" stroke-width=\"1.73\" stroke-opacity=\"0.600000\" points=\"130.99,-296.45 135.72,-294.06 130.54,-292.98 130.99,-296.45\"/>\n",
       "<text text-anchor=\"middle\" x=\"103.87\" y=\"-298.18\" font-family=\"Times,serif\" font-size=\"14.00\">3</text>\n",
       "</g>\n",
       "<!-- (1, 0)&#45;&gt;(0, 0) -->\n",
       "<g id=\"edge13\" class=\"edge\">\n",
       "<title>(1, 0)-&gt;(0, 0)</title>\n",
       "<path fill=\"none\" stroke=\"#f3ad5c\" stroke-width=\"2.19\" stroke-opacity=\"0.600000\" d=\"M135.93,-34.39C124.14,-32.47 105.73,-32.24 92.32,-33.69\"/>\n",
       "<polygon fill=\"#f3ad5c\" fill-opacity=\"0.600000\" stroke=\"#f3ad5c\" stroke-width=\"2.19\" stroke-opacity=\"0.600000\" points=\"92.01,-31.96 87.28,-34.35 92.46,-35.43 92.01,-31.96\"/>\n",
       "<text text-anchor=\"middle\" x=\"111.63\" y=\"-22.84\" font-family=\"Times,serif\" font-size=\"14.00\">4</text>\n",
       "</g>\n",
       "<!-- (1, 1) -->\n",
       "<g id=\"node7\" class=\"node\">\n",
       "<title>(1, 1)</title>\n",
       "<g id=\"a_node7\"><a xlink:title=\"(1, 1)\">\n",
       "<ellipse fill=\"#f0fff4\" stroke=\"black\" cx=\"183.5\" cy=\"-101.85\" rx=\"12.5\" ry=\"12.5\"/>\n",
       "<text text-anchor=\"middle\" x=\"183.5\" y=\"-99.35\" font-family=\"Times,serif\" font-size=\"10.00\">0.</text>\n",
       "</a>\n",
       "</g>\n",
       "</g>\n",
       "<!-- (1, 0)&#45;&gt;(1, 1) -->\n",
       "<g id=\"edge12\" class=\"edge\">\n",
       "<title>(1, 0)-&gt;(1, 1)</title>\n",
       "<path fill=\"none\" stroke=\"#f3ad5c\" stroke-width=\"3.11\" stroke-opacity=\"0.600000\" d=\"M148.85,-52.08C153.09,-63.24 162.1,-79.31 170.05,-90.19\"/>\n",
       "<polygon fill=\"#f3ad5c\" fill-opacity=\"0.600000\" stroke=\"#f3ad5c\" stroke-width=\"3.11\" stroke-opacity=\"0.600000\" points=\"168.72,-91.33 173.15,-94.23 171.5,-89.2 168.72,-91.33\"/>\n",
       "<text text-anchor=\"middle\" x=\"154.45\" y=\"-74.93\" font-family=\"Times,serif\" font-size=\"14.00\">6</text>\n",
       "</g>\n",
       "<!-- (1, 1)&#45;&gt;(1, 0) -->\n",
       "<g id=\"edge14\" class=\"edge\">\n",
       "<title>(1, 1)-&gt;(1, 0)</title>\n",
       "<path fill=\"none\" stroke=\"#f3ad5c\" stroke-width=\"4.04\" stroke-opacity=\"0.600000\" d=\"M182.15,-89.28C177.91,-78.11 168.9,-62.05 160.95,-51.16\"/>\n",
       "<polygon fill=\"#f3ad5c\" fill-opacity=\"0.600000\" stroke=\"#f3ad5c\" stroke-width=\"4.04\" stroke-opacity=\"0.600000\" points=\"162.29,-50.02 157.85,-47.13 159.49,-52.17 162.29,-50.02\"/>\n",
       "<text text-anchor=\"middle\" x=\"166.55\" y=\"-74.02\" font-family=\"Times,serif\" font-size=\"14.00\">8</text>\n",
       "</g>\n",
       "<!-- (1, 1)&#45;&gt;(1, 2) -->\n",
       "<g id=\"edge15\" class=\"edge\">\n",
       "<title>(1, 1)-&gt;(1, 2)</title>\n",
       "<path fill=\"none\" stroke=\"#f3ad5c\" stroke-width=\"4.04\" stroke-opacity=\"0.600000\" d=\"M173.29,-109.31C165.73,-118.57 156.32,-134.4 150.88,-146.73\"/>\n",
       "<polygon fill=\"#f3ad5c\" fill-opacity=\"0.600000\" stroke=\"#f3ad5c\" stroke-width=\"4.04\" stroke-opacity=\"0.600000\" points=\"149.21,-146.14 148.93,-151.43 152.47,-147.49 149.21,-146.14\"/>\n",
       "<text text-anchor=\"middle\" x=\"157.08\" y=\"-116.82\" font-family=\"Times,serif\" font-size=\"14.00\">8</text>\n",
       "</g>\n",
       "<!-- (2, 1) -->\n",
       "<g id=\"node12\" class=\"node\">\n",
       "<title>(2, 1)</title>\n",
       "<g id=\"a_node12\"><a xlink:title=\"(2, 1)\">\n",
       "<ellipse fill=\"#f0fff4\" stroke=\"black\" cx=\"255.5\" cy=\"-101.85\" rx=\"12.5\" ry=\"12.5\"/>\n",
       "<text text-anchor=\"middle\" x=\"255.5\" y=\"-99.35\" font-family=\"Times,serif\" font-size=\"10.00\">0.</text>\n",
       "</a>\n",
       "</g>\n",
       "</g>\n",
       "<!-- (1, 1)&#45;&gt;(2, 1) -->\n",
       "<g id=\"edge16\" class=\"edge\">\n",
       "<title>(1, 1)-&gt;(2, 1)</title>\n",
       "<path fill=\"none\" stroke=\"#f3ad5c\" stroke-width=\"2.65\" stroke-opacity=\"0.600000\" d=\"M195.07,-106.97C206.86,-108.88 225.27,-109.12 238.68,-107.67\"/>\n",
       "<polygon fill=\"#f3ad5c\" fill-opacity=\"0.600000\" stroke=\"#f3ad5c\" stroke-width=\"2.65\" stroke-opacity=\"0.600000\" points=\"238.99,-109.39 243.72,-107 238.54,-105.92 238.99,-109.39\"/>\n",
       "<text text-anchor=\"middle\" x=\"211.87\" y=\"-111.12\" font-family=\"Times,serif\" font-size=\"14.00\">5</text>\n",
       "</g>\n",
       "<!-- (1, 2)&#45;&gt;(0, 2) -->\n",
       "<g id=\"edge19\" class=\"edge\">\n",
       "<title>(1, 2)-&gt;(0, 2)</title>\n",
       "<path fill=\"none\" stroke=\"#f3ad5c\" stroke-width=\"1.26\" stroke-opacity=\"0.600000\" d=\"M135.93,-159.09C124.14,-157.18 105.73,-156.94 92.32,-158.39\"/>\n",
       "<polygon fill=\"#f3ad5c\" fill-opacity=\"0.600000\" stroke=\"#f3ad5c\" stroke-width=\"1.26\" stroke-opacity=\"0.600000\" points=\"92.01,-156.67 87.28,-159.06 92.46,-160.14 92.01,-156.67\"/>\n",
       "<text text-anchor=\"middle\" x=\"119.13\" y=\"-162.54\" font-family=\"Times,serif\" font-size=\"14.00\">2</text>\n",
       "</g>\n",
       "<!-- (1, 2)&#45;&gt;(1, 1) -->\n",
       "<g id=\"edge17\" class=\"edge\">\n",
       "<title>(1, 2)-&gt;(1, 1)</title>\n",
       "<path fill=\"none\" stroke=\"#f3ad5c\" stroke-width=\"3.11\" stroke-opacity=\"0.600000\" d=\"M157.71,-156.75C165.27,-147.49 174.68,-131.66 180.12,-119.33\"/>\n",
       "<polygon fill=\"#f3ad5c\" fill-opacity=\"0.600000\" stroke=\"#f3ad5c\" stroke-width=\"3.11\" stroke-opacity=\"0.600000\" points=\"181.77,-119.92 182.07,-114.63 178.54,-118.58 181.77,-119.92\"/>\n",
       "<text text-anchor=\"middle\" x=\"173.92\" y=\"-126.84\" font-family=\"Times,serif\" font-size=\"14.00\">6</text>\n",
       "</g>\n",
       "<!-- (1, 3) -->\n",
       "<g id=\"node9\" class=\"node\">\n",
       "<title>(1, 3)</title>\n",
       "<g id=\"a_node9\"><a xlink:title=\"(1, 3)\">\n",
       "<ellipse fill=\"#f0fff4\" stroke=\"black\" cx=\"183.5\" cy=\"-226.56\" rx=\"12.5\" ry=\"12.5\"/>\n",
       "<text text-anchor=\"middle\" x=\"183.5\" y=\"-224.06\" font-family=\"Times,serif\" font-size=\"10.00\">0.</text>\n",
       "</a>\n",
       "</g>\n",
       "</g>\n",
       "<!-- (1, 2)&#45;&gt;(1, 3) -->\n",
       "<g id=\"edge18\" class=\"edge\">\n",
       "<title>(1, 2)-&gt;(1, 3)</title>\n",
       "<path fill=\"none\" stroke=\"#f3ad5c\" stroke-width=\"4.04\" stroke-opacity=\"0.600000\" d=\"M148.85,-176.78C153.09,-187.95 162.1,-204.01 170.05,-214.9\"/>\n",
       "<polygon fill=\"#f3ad5c\" fill-opacity=\"0.600000\" stroke=\"#f3ad5c\" stroke-width=\"4.04\" stroke-opacity=\"0.600000\" points=\"168.71,-216.05 173.15,-218.94 171.51,-213.89 168.71,-216.05\"/>\n",
       "<text text-anchor=\"middle\" x=\"154.45\" y=\"-199.64\" font-family=\"Times,serif\" font-size=\"14.00\">8</text>\n",
       "</g>\n",
       "<!-- (1, 3)&#45;&gt;(1, 2) -->\n",
       "<g id=\"edge20\" class=\"edge\">\n",
       "<title>(1, 3)-&gt;(1, 2)</title>\n",
       "<path fill=\"none\" stroke=\"#f3ad5c\" stroke-width=\"4.5\" stroke-opacity=\"0.600000\" d=\"M182.15,-213.99C177.91,-202.82 168.9,-186.75 160.95,-175.87\"/>\n",
       "<polygon fill=\"#f3ad5c\" fill-opacity=\"0.600000\" stroke=\"#f3ad5c\" stroke-width=\"4.5\" stroke-opacity=\"0.600000\" points=\"162.45,-174.6 157.85,-171.83 159.33,-177 162.45,-174.6\"/>\n",
       "<text text-anchor=\"middle\" x=\"166.55\" y=\"-198.73\" font-family=\"Times,serif\" font-size=\"14.00\">9</text>\n",
       "</g>\n",
       "<!-- (1, 3)&#45;&gt;(1, 4) -->\n",
       "<g id=\"edge21\" class=\"edge\">\n",
       "<title>(1, 3)-&gt;(1, 4)</title>\n",
       "<path fill=\"none\" stroke=\"#f3ad5c\" stroke-width=\"1.73\" stroke-opacity=\"0.600000\" d=\"M173.29,-234.02C165.73,-243.28 156.32,-259.11 150.88,-271.44\"/>\n",
       "<polygon fill=\"#f3ad5c\" fill-opacity=\"0.600000\" stroke=\"#f3ad5c\" stroke-width=\"1.73\" stroke-opacity=\"0.600000\" points=\"149.23,-270.85 148.93,-276.14 152.46,-272.19 149.23,-270.85\"/>\n",
       "<text text-anchor=\"middle\" x=\"157.08\" y=\"-241.53\" font-family=\"Times,serif\" font-size=\"14.00\">3</text>\n",
       "</g>\n",
       "<!-- (2, 3) -->\n",
       "<g id=\"node14\" class=\"node\">\n",
       "<title>(2, 3)</title>\n",
       "<g id=\"a_node14\"><a xlink:title=\"(2, 3)\">\n",
       "<ellipse fill=\"#f0fff4\" stroke=\"black\" cx=\"255.5\" cy=\"-226.56\" rx=\"12.5\" ry=\"12.5\"/>\n",
       "<text text-anchor=\"middle\" x=\"255.5\" y=\"-224.06\" font-family=\"Times,serif\" font-size=\"10.00\">0.</text>\n",
       "</a>\n",
       "</g>\n",
       "</g>\n",
       "<!-- (1, 3)&#45;&gt;(2, 3) -->\n",
       "<g id=\"edge22\" class=\"edge\">\n",
       "<title>(1, 3)-&gt;(2, 3)</title>\n",
       "<path fill=\"none\" stroke=\"#f3ad5c\" stroke-width=\"1.73\" stroke-opacity=\"0.600000\" d=\"M195.07,-231.68C206.86,-233.59 225.27,-233.82 238.68,-232.38\"/>\n",
       "<polygon fill=\"#f3ad5c\" fill-opacity=\"0.600000\" stroke=\"#f3ad5c\" stroke-width=\"1.73\" stroke-opacity=\"0.600000\" points=\"238.99,-234.1 243.72,-231.71 238.54,-230.63 238.99,-234.1\"/>\n",
       "<text text-anchor=\"middle\" x=\"211.87\" y=\"-235.83\" font-family=\"Times,serif\" font-size=\"14.00\">3</text>\n",
       "</g>\n",
       "<!-- (1, 4)&#45;&gt;(0, 4) -->\n",
       "<g id=\"edge25\" class=\"edge\">\n",
       "<title>(1, 4)-&gt;(0, 4)</title>\n",
       "<path fill=\"none\" stroke=\"#f3ad5c\" stroke-width=\"3.58\" stroke-opacity=\"0.600000\" d=\"M135.93,-283.8C124.14,-281.89 105.73,-281.65 92.32,-283.1\"/>\n",
       "<polygon fill=\"#f3ad5c\" fill-opacity=\"0.600000\" stroke=\"#f3ad5c\" stroke-width=\"3.58\" stroke-opacity=\"0.600000\" points=\"92.01,-281.38 87.28,-283.77 92.46,-284.85 92.01,-281.38\"/>\n",
       "<text text-anchor=\"middle\" x=\"111.63\" y=\"-272.25\" font-family=\"Times,serif\" font-size=\"14.00\">7</text>\n",
       "</g>\n",
       "<!-- (1, 4)&#45;&gt;(1, 3) -->\n",
       "<g id=\"edge23\" class=\"edge\">\n",
       "<title>(1, 4)-&gt;(1, 3)</title>\n",
       "<path fill=\"none\" stroke=\"#f3ad5c\" stroke-width=\"1.26\" stroke-opacity=\"0.600000\" d=\"M157.71,-281.45C165.27,-272.2 174.68,-256.37 180.12,-244.04\"/>\n",
       "<polygon fill=\"#f3ad5c\" fill-opacity=\"0.600000\" stroke=\"#f3ad5c\" stroke-width=\"1.26\" stroke-opacity=\"0.600000\" points=\"181.77,-244.63 182.07,-239.34 178.54,-243.29 181.77,-244.63\"/>\n",
       "<text text-anchor=\"middle\" x=\"173.92\" y=\"-251.55\" font-family=\"Times,serif\" font-size=\"14.00\">2</text>\n",
       "</g>\n",
       "<!-- (1, 5) -->\n",
       "<g id=\"node11\" class=\"node\">\n",
       "<title>(1, 5)</title>\n",
       "<g id=\"a_node11\"><a xlink:title=\"(1, 5)\">\n",
       "<ellipse fill=\"#f0fff4\" stroke=\"black\" cx=\"183.5\" cy=\"-351.27\" rx=\"12.5\" ry=\"12.5\"/>\n",
       "<text text-anchor=\"middle\" x=\"183.5\" y=\"-348.77\" font-family=\"Times,serif\" font-size=\"10.00\">0.</text>\n",
       "</a>\n",
       "</g>\n",
       "</g>\n",
       "<!-- (1, 4)&#45;&gt;(1, 5) -->\n",
       "<g id=\"edge24\" class=\"edge\">\n",
       "<title>(1, 4)-&gt;(1, 5)</title>\n",
       "<path fill=\"none\" stroke=\"#f3ad5c\" stroke-width=\"4.5\" stroke-opacity=\"0.600000\" d=\"M148.85,-301.49C153.09,-312.66 162.1,-328.72 170.05,-339.61\"/>\n",
       "<polygon fill=\"#f3ad5c\" fill-opacity=\"0.600000\" stroke=\"#f3ad5c\" stroke-width=\"4.5\" stroke-opacity=\"0.600000\" points=\"168.55,-340.88 173.15,-343.64 171.67,-338.48 168.55,-340.88\"/>\n",
       "<text text-anchor=\"middle\" x=\"154.45\" y=\"-324.35\" font-family=\"Times,serif\" font-size=\"14.00\">9</text>\n",
       "</g>\n",
       "<!-- (1, 5)&#45;&gt;(1, 4) -->\n",
       "<g id=\"edge26\" class=\"edge\">\n",
       "<title>(1, 5)-&gt;(1, 4)</title>\n",
       "<path fill=\"none\" stroke=\"#f3ad5c\" stroke-width=\"4.04\" stroke-opacity=\"0.600000\" d=\"M182.15,-338.69C177.91,-327.52 168.9,-311.46 160.95,-300.58\"/>\n",
       "<polygon fill=\"#f3ad5c\" fill-opacity=\"0.600000\" stroke=\"#f3ad5c\" stroke-width=\"4.04\" stroke-opacity=\"0.600000\" points=\"162.29,-299.43 157.85,-296.54 159.49,-301.58 162.29,-299.43\"/>\n",
       "<text text-anchor=\"middle\" x=\"166.55\" y=\"-323.44\" font-family=\"Times,serif\" font-size=\"14.00\">8</text>\n",
       "</g>\n",
       "<!-- (2, 5) -->\n",
       "<g id=\"node16\" class=\"node\">\n",
       "<title>(2, 5)</title>\n",
       "<g id=\"a_node16\"><a xlink:title=\"(2, 5)\">\n",
       "<ellipse fill=\"#f0fff4\" stroke=\"black\" cx=\"255.5\" cy=\"-351.27\" rx=\"12.5\" ry=\"12.5\"/>\n",
       "<text text-anchor=\"middle\" x=\"255.5\" y=\"-348.77\" font-family=\"Times,serif\" font-size=\"10.00\">0.</text>\n",
       "</a>\n",
       "</g>\n",
       "</g>\n",
       "<!-- (1, 5)&#45;&gt;(2, 5) -->\n",
       "<g id=\"edge27\" class=\"edge\">\n",
       "<title>(1, 5)-&gt;(2, 5)</title>\n",
       "<path fill=\"none\" stroke=\"#f3ad5c\" stroke-width=\"1.73\" stroke-opacity=\"0.600000\" d=\"M195.07,-356.38C206.86,-358.3 225.27,-358.53 238.68,-357.08\"/>\n",
       "<polygon fill=\"#f3ad5c\" fill-opacity=\"0.600000\" stroke=\"#f3ad5c\" stroke-width=\"1.73\" stroke-opacity=\"0.600000\" points=\"238.99,-358.81 243.72,-356.42 238.54,-355.34 238.99,-358.81\"/>\n",
       "<text text-anchor=\"middle\" x=\"211.87\" y=\"-360.53\" font-family=\"Times,serif\" font-size=\"14.00\">3</text>\n",
       "</g>\n",
       "<!-- (2, 1)&#45;&gt;(1, 1) -->\n",
       "<g id=\"edge29\" class=\"edge\">\n",
       "<title>(2, 1)-&gt;(1, 1)</title>\n",
       "<path fill=\"none\" stroke=\"#f3ad5c\" stroke-width=\"4.5\" stroke-opacity=\"0.600000\" d=\"M243.93,-96.74C232.14,-94.82 213.73,-94.59 200.32,-96.04\"/>\n",
       "<polygon fill=\"#f3ad5c\" fill-opacity=\"0.600000\" stroke=\"#f3ad5c\" stroke-width=\"4.5\" stroke-opacity=\"0.600000\" points=\"199.98,-94.1 195.28,-96.71 200.49,-98 199.98,-94.1\"/>\n",
       "<text text-anchor=\"middle\" x=\"227.13\" y=\"-100.19\" font-family=\"Times,serif\" font-size=\"14.00\">9</text>\n",
       "</g>\n",
       "<!-- (2, 2) -->\n",
       "<g id=\"node13\" class=\"node\">\n",
       "<title>(2, 2)</title>\n",
       "<g id=\"a_node13\"><a xlink:title=\"(2, 2)\">\n",
       "<ellipse fill=\"#f0fff4\" stroke=\"black\" cx=\"291.5\" cy=\"-164.21\" rx=\"12.5\" ry=\"12.5\"/>\n",
       "<text text-anchor=\"middle\" x=\"291.5\" y=\"-161.71\" font-family=\"Times,serif\" font-size=\"10.00\">0.</text>\n",
       "</a>\n",
       "</g>\n",
       "</g>\n",
       "<!-- (2, 1)&#45;&gt;(2, 2) -->\n",
       "<g id=\"edge28\" class=\"edge\">\n",
       "<title>(2, 1)-&gt;(2, 2)</title>\n",
       "<path fill=\"none\" stroke=\"#f3ad5c\" stroke-width=\"4.5\" stroke-opacity=\"0.600000\" d=\"M256.85,-114.43C261.09,-125.6 270.1,-141.66 278.05,-152.54\"/>\n",
       "<polygon fill=\"#f3ad5c\" fill-opacity=\"0.600000\" stroke=\"#f3ad5c\" stroke-width=\"4.5\" stroke-opacity=\"0.600000\" points=\"276.55,-153.81 281.15,-156.58 279.67,-151.42 276.55,-153.81\"/>\n",
       "<text text-anchor=\"middle\" x=\"262.45\" y=\"-122.29\" font-family=\"Times,serif\" font-size=\"14.00\">9</text>\n",
       "</g>\n",
       "<!-- (2, 2)&#45;&gt;(2, 1) -->\n",
       "<g id=\"edge30\" class=\"edge\">\n",
       "<title>(2, 2)-&gt;(2, 1)</title>\n",
       "<path fill=\"none\" stroke=\"#f3ad5c\" stroke-width=\"4.04\" stroke-opacity=\"0.600000\" d=\"M290.15,-151.63C285.91,-140.46 276.9,-124.4 268.95,-113.52\"/>\n",
       "<polygon fill=\"#f3ad5c\" fill-opacity=\"0.600000\" stroke=\"#f3ad5c\" stroke-width=\"4.04\" stroke-opacity=\"0.600000\" points=\"270.29,-112.37 265.85,-109.48 267.49,-114.52 270.29,-112.37\"/>\n",
       "<text text-anchor=\"middle\" x=\"274.55\" y=\"-121.37\" font-family=\"Times,serif\" font-size=\"14.00\">8</text>\n",
       "</g>\n",
       "<!-- (2, 2)&#45;&gt;(2, 3) -->\n",
       "<g id=\"edge31\" class=\"edge\">\n",
       "<title>(2, 2)-&gt;(2, 3)</title>\n",
       "<path fill=\"none\" stroke=\"#f3ad5c\" stroke-width=\"0.8\" stroke-opacity=\"0.600000\" d=\"M281.29,-171.67C273.73,-180.92 264.32,-196.75 258.88,-209.08\"/>\n",
       "<polygon fill=\"#f3ad5c\" fill-opacity=\"0.600000\" stroke=\"#f3ad5c\" stroke-width=\"0.8\" stroke-opacity=\"0.600000\" points=\"257.23,-208.5 256.93,-213.79 260.46,-209.84 257.23,-208.5\"/>\n",
       "<text text-anchor=\"middle\" x=\"265.08\" y=\"-194.18\" font-family=\"Times,serif\" font-size=\"14.00\">1</text>\n",
       "</g>\n",
       "<!-- (2, 3)&#45;&gt;(1, 3) -->\n",
       "<g id=\"edge34\" class=\"edge\">\n",
       "<title>(2, 3)-&gt;(1, 3)</title>\n",
       "<path fill=\"none\" stroke=\"#f3ad5c\" stroke-width=\"4.04\" stroke-opacity=\"0.600000\" d=\"M243.93,-221.45C232.14,-219.53 213.73,-219.3 200.32,-220.75\"/>\n",
       "<polygon fill=\"#f3ad5c\" fill-opacity=\"0.600000\" stroke=\"#f3ad5c\" stroke-width=\"4.04\" stroke-opacity=\"0.600000\" points=\"200,-219.01 195.28,-221.41 200.47,-222.51 200,-219.01\"/>\n",
       "<text text-anchor=\"middle\" x=\"227.13\" y=\"-224.9\" font-family=\"Times,serif\" font-size=\"14.00\">8</text>\n",
       "</g>\n",
       "<!-- (2, 3)&#45;&gt;(2, 2) -->\n",
       "<g id=\"edge32\" class=\"edge\">\n",
       "<title>(2, 3)-&gt;(2, 2)</title>\n",
       "<path fill=\"none\" stroke=\"#f3ad5c\" stroke-width=\"0.8\" stroke-opacity=\"0.600000\" d=\"M265.71,-219.1C273.27,-209.85 282.68,-194.02 288.12,-181.69\"/>\n",
       "<polygon fill=\"#f3ad5c\" fill-opacity=\"0.600000\" stroke=\"#f3ad5c\" stroke-width=\"0.8\" stroke-opacity=\"0.600000\" points=\"289.77,-182.27 290.07,-176.98 286.54,-180.93 289.77,-182.27\"/>\n",
       "<text text-anchor=\"middle\" x=\"281.92\" y=\"-204.19\" font-family=\"Times,serif\" font-size=\"14.00\">1</text>\n",
       "</g>\n",
       "<!-- (2, 4) -->\n",
       "<g id=\"node15\" class=\"node\">\n",
       "<title>(2, 4)</title>\n",
       "<g id=\"a_node15\"><a xlink:title=\"(2, 4)\">\n",
       "<ellipse fill=\"#f0fff4\" stroke=\"black\" cx=\"291.5\" cy=\"-288.92\" rx=\"12.5\" ry=\"12.5\"/>\n",
       "<text text-anchor=\"middle\" x=\"291.5\" y=\"-286.42\" font-family=\"Times,serif\" font-size=\"10.00\">0.</text>\n",
       "</a>\n",
       "</g>\n",
       "</g>\n",
       "<!-- (2, 3)&#45;&gt;(2, 4) -->\n",
       "<g id=\"edge33\" class=\"edge\">\n",
       "<title>(2, 3)-&gt;(2, 4)</title>\n",
       "<path fill=\"none\" stroke=\"#f3ad5c\" stroke-width=\"4.5\" stroke-opacity=\"0.600000\" d=\"M256.85,-239.14C261.09,-250.31 270.1,-266.37 278.05,-277.25\"/>\n",
       "<polygon fill=\"#f3ad5c\" fill-opacity=\"0.600000\" stroke=\"#f3ad5c\" stroke-width=\"4.5\" stroke-opacity=\"0.600000\" points=\"276.55,-278.52 281.15,-281.29 279.67,-276.12 276.55,-278.52\"/>\n",
       "<text text-anchor=\"middle\" x=\"262.45\" y=\"-246.99\" font-family=\"Times,serif\" font-size=\"14.00\">9</text>\n",
       "</g>\n",
       "<!-- (2, 4)&#45;&gt;(2, 3) -->\n",
       "<g id=\"edge35\" class=\"edge\">\n",
       "<title>(2, 4)-&gt;(2, 3)</title>\n",
       "<path fill=\"none\" stroke=\"#f3ad5c\" stroke-width=\"2.19\" stroke-opacity=\"0.600000\" d=\"M290.15,-276.34C285.91,-265.17 276.9,-249.11 268.95,-238.22\"/>\n",
       "<polygon fill=\"#f3ad5c\" fill-opacity=\"0.600000\" stroke=\"#f3ad5c\" stroke-width=\"2.19\" stroke-opacity=\"0.600000\" points=\"270.28,-237.09 265.85,-234.19 267.5,-239.22 270.28,-237.09\"/>\n",
       "<text text-anchor=\"middle\" x=\"274.55\" y=\"-246.08\" font-family=\"Times,serif\" font-size=\"14.00\">4</text>\n",
       "</g>\n",
       "<!-- (2, 4)&#45;&gt;(2, 5) -->\n",
       "<g id=\"edge36\" class=\"edge\">\n",
       "<title>(2, 4)-&gt;(2, 5)</title>\n",
       "<path fill=\"none\" stroke=\"#f3ad5c\" stroke-width=\"1.26\" stroke-opacity=\"0.600000\" d=\"M281.29,-296.38C273.73,-305.63 264.32,-321.46 258.88,-333.79\"/>\n",
       "<polygon fill=\"#f3ad5c\" fill-opacity=\"0.600000\" stroke=\"#f3ad5c\" stroke-width=\"1.26\" stroke-opacity=\"0.600000\" points=\"257.23,-333.21 256.93,-338.49 260.46,-334.54 257.23,-333.21\"/>\n",
       "<text text-anchor=\"middle\" x=\"265.08\" y=\"-318.88\" font-family=\"Times,serif\" font-size=\"14.00\">2</text>\n",
       "</g>\n",
       "<!-- (2, 5)&#45;&gt;(1, 5) -->\n",
       "<g id=\"edge38\" class=\"edge\">\n",
       "<title>(2, 5)-&gt;(1, 5)</title>\n",
       "<path fill=\"none\" stroke=\"#f3ad5c\" stroke-width=\"3.11\" stroke-opacity=\"0.600000\" d=\"M243.93,-346.15C232.14,-344.24 213.73,-344.01 200.32,-345.45\"/>\n",
       "<polygon fill=\"#f3ad5c\" fill-opacity=\"0.600000\" stroke=\"#f3ad5c\" stroke-width=\"3.11\" stroke-opacity=\"0.600000\" points=\"200.01,-343.73 195.28,-346.12 200.46,-347.2 200.01,-343.73\"/>\n",
       "<text text-anchor=\"middle\" x=\"227.13\" y=\"-349.6\" font-family=\"Times,serif\" font-size=\"14.00\">6</text>\n",
       "</g>\n",
       "<!-- (2, 5)&#45;&gt;(2, 4) -->\n",
       "<g id=\"edge37\" class=\"edge\">\n",
       "<title>(2, 5)-&gt;(2, 4)</title>\n",
       "<path fill=\"none\" stroke=\"#f3ad5c\" stroke-width=\"0.8\" stroke-opacity=\"0.600000\" d=\"M265.71,-343.81C273.27,-334.55 282.68,-318.73 288.12,-306.39\"/>\n",
       "<polygon fill=\"#f3ad5c\" fill-opacity=\"0.600000\" stroke=\"#f3ad5c\" stroke-width=\"0.8\" stroke-opacity=\"0.600000\" points=\"289.77,-306.98 290.07,-301.69 286.54,-305.64 289.77,-306.98\"/>\n",
       "<text text-anchor=\"middle\" x=\"281.92\" y=\"-328.9\" font-family=\"Times,serif\" font-size=\"14.00\">1</text>\n",
       "</g>\n",
       "<!-- (&#39;void&#39;, (0, 0)) -->\n",
       "<!-- (&#39;void&#39;, (0, 1)) -->\n",
       "<!-- (&#39;void&#39;, (0, 2)) -->\n",
       "<!-- (&#39;void&#39;, (0, 3)) -->\n",
       "<!-- (&#39;void&#39;, (0, 4)) -->\n",
       "<!-- (&#39;void&#39;, (1, 0)) -->\n",
       "<!-- (&#39;void&#39;, (1, 1)) -->\n",
       "<!-- (&#39;void&#39;, (1, 2)) -->\n",
       "<!-- (&#39;void&#39;, (1, 3)) -->\n",
       "<!-- (&#39;void&#39;, (1, 4)) -->\n",
       "<!-- (&#39;void&#39;, (1, 5)) -->\n",
       "<!-- (&#39;void&#39;, (2, 1)) -->\n",
       "<!-- (&#39;void&#39;, (2, 2)) -->\n",
       "<!-- (&#39;void&#39;, (2, 3)) -->\n",
       "<!-- (&#39;void&#39;, (2, 4)) -->\n",
       "<!-- (&#39;void&#39;, (2, 5)) -->\n",
       "</g>\n",
       "</svg>"
      ],
      "text/plain": [
       "<IPython.core.display.SVG object>"
      ]
     },
     "execution_count": 78,
     "metadata": {},
     "output_type": "execute_result"
    }
   ],
   "source": [
    "gr = rn.grid_with_positions(2, 2, grid_type=\"hexagonal\")\n",
    "nw = rn.ResourceNetworkGreedy(gr)\n",
    "len(gr)\n",
    "\n",
    "sim = nw.run_simulation(np.zeros(len(nw)), n_iters=1)\n",
    "svgs = nw.plot_with_states(sim, scale=1.)\n",
    "svgs[0]"
   ]
  },
  {
   "cell_type": "markdown",
   "id": "707202f1-5a46-4479-ba09-373655e762ac",
   "metadata": {
    "jp-MarkdownHeadingCollapsed": true
   },
   "source": [
    "## Examples"
   ]
  },
  {
   "cell_type": "code",
   "execution_count": 4,
   "id": "ecadc9c7",
   "metadata": {},
   "outputs": [],
   "source": [
    "# n = 4\n",
    "# G2 = ResourceNetwork(nx.fast_gnp_random_graph(n, 0.4, directed=True))\n",
    "# sim = G2.run_simulation(np.random.randint(10, 13, size=n), 40)\n",
    "# plot_simulation(G2, sim)\n",
    "# sim.arr"
   ]
  },
  {
   "cell_type": "code",
   "execution_count": 17,
   "id": "2bfb6288",
   "metadata": {},
   "outputs": [
    {
     "data": {
      "application/vnd.jupyter.widget-view+json": {
       "model_id": "d815c7c4ebad4c349a2c4fa5a07d892f",
       "version_major": 2,
       "version_minor": 0
      },
      "text/plain": [
       "interactive(children=(IntSlider(value=0, description='№ of iteration', max=19), Output()), _dom_classes=('widg…"
      ]
     },
     "metadata": {},
     "output_type": "display_data"
    }
   ],
   "source": [
    "ig = np.array([\n",
    "       [0, 0, 2, 0], #если заменить 2 на 1, то аттрактором станет другая вершина!\n",
    "       [0, 0, 0, 4], \n",
    "       [3, 2, 0, 0],\n",
    "       [1, 5, 0, 0]])\n",
    "interesting_graph = rn.ResourceNetwork(nx.from_numpy_array(\n",
    "    ig,\n",
    "    create_using=nx.DiGraph))\n",
    "sim = interesting_graph.run_simulation([20, 10, 6, 12], 20)\n",
    "rn.plot_simulation(interesting_graph, sim, scale=1)"
   ]
  },
  {
   "cell_type": "code",
   "execution_count": 133,
   "id": "4e76abcc-9a37-4a5c-a49c-480a4485695c",
   "metadata": {},
   "outputs": [],
   "source": [
    "ig = np.array([\n",
    "       [1, 0, 2, 0], #если заменить 2 на 1, то аттрактором станет другая вершина!\n",
    "       [0, 0, 0, 4], \n",
    "       [3, 2, 5, 0],\n",
    "       [1, 5, 0, 0]\n",
    "])\n",
    "Gr = nx.from_numpy_array(\n",
    "    np.diag(np.arange(2)),\n",
    "    create_using=nx.DiGraph\n",
    ")\n",
    "interesting_graph = rn.ResourceNetworkGreedy(Gr)\n",
    "# sim = interesting_graph.run_simulation([20, 10, 0, 12], 300)\n",
    "# rn.plot_simulation(interesting_graph, sim)"
   ]
  },
  {
   "cell_type": "code",
   "execution_count": 135,
   "id": "590f2f38-5269-4621-8bdc-e31f5600c207",
   "metadata": {},
   "outputs": [
    {
     "name": "stdout",
     "output_type": "stream",
     "text": [
      "ResourceNetworkGreedy(adjacency_matrix=array([[0, 0],\n",
      "                                              [0, 1]]),\n",
      "                      idx_descriptor=[0, 1])\n"
     ]
    },
    {
     "data": {
      "text/plain": [
       "ResourceNetworkGreedy(adjacency_matrix=array([[ 0,  0, 10],\n",
       "                                              [ 0,  1,  0],\n",
       "                                              [ 0,  0,  0]]),\n",
       "                      idx_descriptor=[0, 1, 'lala'])"
      ]
     },
     "execution_count": 135,
     "metadata": {},
     "output_type": "execute_result"
    }
   ],
   "source": [
    "G = interesting_graph\n",
    "print(G)\n",
    "G = G.altered(lambda x: x.add_edge(0, \"lala\", weight=10))\n",
    "G"
   ]
  },
  {
   "cell_type": "code",
   "execution_count": 24,
   "id": "9f6c8f77-257b-4566-bf97-a759c264698f",
   "metadata": {},
   "outputs": [],
   "source": [
    "# it = sim.simple_protocol()\n",
    "# it.to_excel(\"../tests/data/g1.xlsx\")"
   ]
  },
  {
   "cell_type": "code",
   "execution_count": 25,
   "id": "b5af8a87",
   "metadata": {},
   "outputs": [
    {
     "data": {
      "application/vnd.jupyter.widget-view+json": {
       "model_id": "e8445de455b14b8ca3c87c40fffed362",
       "version_major": 2,
       "version_minor": 0
      },
      "text/plain": [
       "interactive(children=(IntSlider(value=0, description='№ of iteration', max=39), Output()), _dom_classes=('widg…"
      ]
     },
     "metadata": {},
     "output_type": "display_data"
    }
   ],
   "source": [
    "M = np.array([\n",
    "    [1, 1, 1, 1, 1],\n",
    "    [1, 1, 1, 1, 1],\n",
    "    [3, 1, 1, 1, 1],\n",
    "    [4, 1, 1, 1, 1],\n",
    "    [5, 1, 1, 1, 1]\n",
    "])\n",
    "G = ResourceNetwork(nx.from_numpy_array(M, create_using=nx.DiGraph))\n",
    "sim = G.run_simulation([0, 40, 0, 0, 0], 40)\n",
    "plot_simulation(G, sim, scale=1.5)"
   ]
  },
  {
   "cell_type": "code",
   "execution_count": 28,
   "id": "307928d0-6c12-409d-b900-92d5ef3fb58a",
   "metadata": {
    "scrolled": true
   },
   "outputs": [
    {
     "data": {
      "application/vnd.jupyter.widget-view+json": {
       "model_id": "ce418d4cae0a4d2a8d16bb4988e92fd7",
       "version_major": 2,
       "version_minor": 0
      },
      "text/plain": [
       "interactive(children=(IntSlider(value=0, description='№ of iteration', max=39), Output()), _dom_classes=('widg…"
      ]
     },
     "metadata": {},
     "output_type": "display_data"
    }
   ],
   "source": [
    "G_gr = G.to_child(ResourceNetworkGreedy)\n",
    "sim = G_gr.run_simulation([0, 40, 0, 0, 0], 40)\n",
    "plot_simulation(G_gr, sim, scale=1.5)"
   ]
  },
  {
   "cell_type": "markdown",
   "id": "7ae774a8",
   "metadata": {
    "jp-MarkdownHeadingCollapsed": true
   },
   "source": [
    "## Simple network"
   ]
  },
  {
   "cell_type": "code",
   "execution_count": 13,
   "id": "0a536be8",
   "metadata": {},
   "outputs": [],
   "source": [
    "G_ = ResourceDiGraph(nx.from_numpy_array(np.array([\n",
    "    [0, 1, 0],\n",
    "    [0, 0, 2],\n",
    "    [3, 0, 0]\n",
    "]), create_using=nx.DiGraph))\n",
    "# with open('work/ipu/report 01.02.22/3.svg', 'w') as f:\n",
    "    # f.write(G_.plot().data)"
   ]
  },
  {
   "cell_type": "code",
   "execution_count": 14,
   "id": "0c84cac1",
   "metadata": {},
   "outputs": [
    {
     "data": {
      "image/svg+xml": [
       "<svg xmlns=\"http://www.w3.org/2000/svg\" xmlns:xlink=\"http://www.w3.org/1999/xlink\" width=\"185pt\" height=\"150pt\" viewBox=\"0.00 0.00 184.75 150.09\">\n",
       "<g id=\"graph0\" class=\"graph\" transform=\"scale(1 1) rotate(0) translate(4 146.09)\">\n",
       "<title>%3</title>\n",
       "<polygon fill=\"white\" stroke=\"transparent\" points=\"-4,4 -4,-146.09 180.75,-146.09 180.75,4 -4,4\"/>\n",
       "<!-- 0 -->\n",
       "<g id=\"node1\" class=\"node\">\n",
       "<title>0</title>\n",
       "<ellipse fill=\"none\" stroke=\"black\" cx=\"27\" cy=\"-123.29\" rx=\"27\" ry=\"18\"/>\n",
       "<text text-anchor=\"middle\" x=\"27\" y=\"-119.59\" font-family=\"Times,serif\" font-size=\"14.00\">0</text>\n",
       "</g>\n",
       "<!-- 1 -->\n",
       "<g id=\"node2\" class=\"node\">\n",
       "<title>1</title>\n",
       "<ellipse fill=\"none\" stroke=\"black\" cx=\"149.75\" cy=\"-124.09\" rx=\"27\" ry=\"18\"/>\n",
       "<text text-anchor=\"middle\" x=\"149.75\" y=\"-120.39\" font-family=\"Times,serif\" font-size=\"14.00\">1</text>\n",
       "</g>\n",
       "<!-- 0&#45;&gt;1 -->\n",
       "<g id=\"edge1\" class=\"edge\">\n",
       "<title>0-&gt;1</title>\n",
       "<path fill=\"none\" stroke=\"black\" d=\"M54.24,-123.47C71.41,-123.58 93.79,-123.73 112.58,-123.85\"/>\n",
       "<polygon fill=\"black\" stroke=\"black\" points=\"112.56,-127.35 122.58,-123.91 112.61,-120.35 112.56,-127.35\"/>\n",
       "<text text-anchor=\"middle\" x=\"78.41\" y=\"-127.46\" font-family=\"Times,serif\" font-size=\"14.00\">1</text>\n",
       "</g>\n",
       "<!-- 2 -->\n",
       "<g id=\"node3\" class=\"node\">\n",
       "<title>2</title>\n",
       "<ellipse fill=\"none\" stroke=\"black\" cx=\"89.21\" cy=\"-18\" rx=\"27\" ry=\"18\"/>\n",
       "<text text-anchor=\"middle\" x=\"89.21\" y=\"-14.3\" font-family=\"Times,serif\" font-size=\"14.00\">2</text>\n",
       "</g>\n",
       "<!-- 0&#45;&gt;2 -->\n",
       "<g id=\"edge2\" class=\"edge\">\n",
       "<title>0-&gt;2</title>\n",
       "<path fill=\"none\" stroke=\"black\" d=\"M42.04,-108.08C53.87,-91.67 69.67,-65.3 79.81,-45.3\"/>\n",
       "<polygon fill=\"black\" stroke=\"black\" points=\"83.07,-46.59 84.29,-36.06 76.78,-43.53 83.07,-46.59\"/>\n",
       "<text text-anchor=\"middle\" x=\"55.93\" y=\"-80.49\" font-family=\"Times,serif\" font-size=\"14.00\">2</text>\n",
       "</g>\n",
       "<!-- 1&#45;&gt;2 -->\n",
       "<g id=\"edge3\" class=\"edge\">\n",
       "<title>1-&gt;2</title>\n",
       "<path fill=\"none\" stroke=\"black\" d=\"M140.02,-107.05C130.27,-89.96 115.13,-63.42 103.91,-43.76\"/>\n",
       "<polygon fill=\"black\" stroke=\"black\" points=\"106.91,-41.95 98.91,-35 100.83,-45.42 106.91,-41.95\"/>\n",
       "<text text-anchor=\"middle\" x=\"116.97\" y=\"-79.21\" font-family=\"Times,serif\" font-size=\"14.00\">1</text>\n",
       "</g>\n",
       "<!-- 2&#45;&gt;0 -->\n",
       "<g id=\"edge4\" class=\"edge\">\n",
       "<title>2-&gt;0</title>\n",
       "<path fill=\"none\" stroke=\"black\" d=\"M74.16,-33.21C62.34,-49.62 46.54,-75.98 36.4,-95.99\"/>\n",
       "<polygon fill=\"black\" stroke=\"black\" points=\"33.13,-94.7 31.92,-105.22 39.43,-97.76 33.13,-94.7\"/>\n",
       "<text text-anchor=\"middle\" x=\"50.28\" y=\"-53.4\" font-family=\"Times,serif\" font-size=\"14.00\">1</text>\n",
       "</g>\n",
       "</g>\n",
       "</svg>"
      ],
      "text/plain": [
       "<IPython.core.display.SVG object>"
      ]
     },
     "execution_count": 14,
     "metadata": {},
     "output_type": "execute_result"
    }
   ],
   "source": [
    "G = ResourceDiGraph(nx.from_numpy_array(np.array([\n",
    "    [0, 1, 2],\n",
    "    [0, 0, 1],\n",
    "    [1, 0, 0]\n",
    "]), create_using=nx.DiGraph))\n",
    "G.plot()"
   ]
  },
  {
   "cell_type": "code",
   "execution_count": 15,
   "id": "91079502",
   "metadata": {},
   "outputs": [
    {
     "data": {
      "application/vnd.jupyter.widget-view+json": {
       "model_id": "913df776997a47ae853ffa247d4ddd5a",
       "version_major": 2,
       "version_minor": 0
      },
      "text/plain": [
       "interactive(children=(IntSlider(value=0, description='№ of iteration', max=25), Output()), _dom_classes=('widg…"
      ]
     },
     "metadata": {},
     "output_type": "display_data"
    }
   ],
   "source": [
    "G = ResourceDiGraphWithIncome(nx.from_numpy_array(np.array([\n",
    "    [0, 4, 5],\n",
    "    [0, 0, 4],\n",
    "    [3, 0, 0]\n",
    "]), create_using=nx.DiGraph))\n",
    "sim = G.run_simulation([0, 20, 0], 26)\n",
    "plot_simulation(G, sim)"
   ]
  },
  {
   "cell_type": "code",
   "execution_count": 16,
   "id": "c1b6de1e",
   "metadata": {},
   "outputs": [
    {
     "data": {
      "application/vnd.jupyter.widget-view+json": {
       "model_id": "66b34990ccea4680b4ef7b639e52fc7e",
       "version_major": 2,
       "version_minor": 0
      },
      "text/plain": [
       "interactive(children=(IntSlider(value=0, description='№ of iteration', max=49), Output()), _dom_classes=('widg…"
      ]
     },
     "metadata": {},
     "output_type": "display_data"
    }
   ],
   "source": [
    "G2 = ResourceDiGraphWithIncome(nx.from_numpy_array(np.array([\n",
    "    [0, 4, 5],\n",
    "    [0, 0, 6],\n",
    "    [10, 0, 0]\n",
    "]), create_using=nx.DiGraph))\n",
    "sim = G2.run_simulation([0, 30, 0], 50)\n",
    "plot_simulation(G2, sim)"
   ]
  },
  {
   "cell_type": "code",
   "execution_count": 17,
   "id": "1f2dc0cd",
   "metadata": {},
   "outputs": [
    {
     "data": {
      "text/plain": [
       "22.0"
      ]
     },
     "execution_count": 17,
     "metadata": {},
     "output_type": "execute_result"
    }
   ],
   "source": [
    "G2.T()"
   ]
  },
  {
   "cell_type": "code",
   "execution_count": 18,
   "id": "27e65013",
   "metadata": {},
   "outputs": [
    {
     "data": {
      "text/plain": [
       "array([22.        , 33.        , 24.44444444])"
      ]
     },
     "execution_count": 18,
     "metadata": {},
     "output_type": "execute_result"
    }
   ],
   "source": [
    "G2.r_out() / G2.one_limit_state()"
   ]
  },
  {
   "cell_type": "code",
   "execution_count": 19,
   "id": "4c8788bb",
   "metadata": {},
   "outputs": [
    {
     "data": {
      "text/plain": [
       "(array([ 9,  6, 10]), array([0.40909091, 0.18181818, 0.40909091]))"
      ]
     },
     "execution_count": 19,
     "metadata": {},
     "output_type": "execute_result"
    }
   ],
   "source": [
    "G2.r_out(), G2.one_limit_state()"
   ]
  },
  {
   "cell_type": "code",
   "execution_count": 42,
   "id": "a7f839be",
   "metadata": {},
   "outputs": [],
   "source": [
    "import io"
   ]
  },
  {
   "cell_type": "code",
   "execution_count": 43,
   "id": "f6d9cd3e",
   "metadata": {},
   "outputs": [],
   "source": [
    "f = io.StringIO('test')"
   ]
  },
  {
   "cell_type": "code",
   "execution_count": 44,
   "id": "8917b390",
   "metadata": {},
   "outputs": [],
   "source": [
    "plotted = G.plot_with_states(sim)[0]"
   ]
  },
  {
   "cell_type": "code",
   "execution_count": null,
   "id": "7fd04d46",
   "metadata": {},
   "outputs": [],
   "source": [
    "# writer.append_data()"
   ]
  },
  {
   "cell_type": "code",
   "execution_count": 23,
   "id": "847a3985-4b9d-4555-a0ca-8e18a27869c7",
   "metadata": {},
   "outputs": [],
   "source": [
    "svg_array = G.plot_with_states(sim)"
   ]
  },
  {
   "cell_type": "code",
   "execution_count": 32,
   "id": "5277b617-0297-4552-a21b-7456eeaaf9c0",
   "metadata": {},
   "outputs": [],
   "source": [
    "svg = svg_array[0]\n"
   ]
  },
  {
   "cell_type": "code",
   "execution_count": 88,
   "id": "0dc59320",
   "metadata": {},
   "outputs": [],
   "source": [
    "path = '/home/heinwol/Documents/WinDocs/work/9_sem/nir_resource1/presentation_test/data/'\n",
    "arr = []\n",
    "# writer = imageio.get_writer(path + 'test2.mp4', format='FFMPEG', mode='I', fps=1)\n",
    "for i, it in enumerate(G.plot_with_states(sim)):\n",
    "    cairosvg.svg2png(bytestring=it.data, write_to= path + 'temp.png', dpi=200)\n",
    "    arr.append(imageio.imread(path + 'temp.png'))\n",
    "#     writer.append_data(imageio.imread(path + 'temp.png'))\n",
    "imageio.mimsave(path + 'second.gif', arr, fps=1)\n",
    "# writer.close()\n",
    "# cairosvg.svg2png(bytestring=it.data, write_to= path + f'first-{i}.png')"
   ]
  },
  {
   "cell_type": "code",
   "execution_count": 41,
   "id": "a7d5f6a0",
   "metadata": {},
   "outputs": [],
   "source": [
    "with open('/home/heinwol/Documents/WinDocs/work/9_sem/nir_resource1/data/example1-4.svg', 'w') as f:\n",
    "    f.write(G.plot_with_states(sim)[-1].data)"
   ]
  },
  {
   "cell_type": "code",
   "execution_count": 42,
   "id": "d6bd9ee8",
   "metadata": {},
   "outputs": [
    {
     "name": "stdout",
     "output_type": "stream",
     "text": [
      "\\begin{tabular}{lrrr}\n",
      "\\toprule\n",
      "{} &         0 &         1 &         2 \\\\\n",
      "t  &           &           &           \\\\\n",
      "\\midrule\n",
      "0  &  0.000000 &  0.000000 &  0.000000 \\\\\n",
      "1  &  0.500000 &  0.500000 &  0.500000 \\\\\n",
      "2  &  0.750000 &  0.472222 &  1.027778 \\\\\n",
      "3  &  1.152778 &  0.458333 &  1.013889 \\\\\n",
      "4  &  1.076389 &  0.574846 &  1.161265 \\\\\n",
      "5  &  1.192515 &  0.509645 &  1.204090 \\\\\n",
      "6  &  1.219715 &  0.545632 &  1.187779 \\\\\n",
      "7  &  1.195591 &  0.549908 &  1.231064 \\\\\n",
      "8  &  1.234970 &  0.535280 &  1.218031 \\\\\n",
      "9  &  1.219985 &  0.550829 &  1.223328 \\\\\n",
      "10 &  1.224304 &  0.543192 &  1.229574 \\\\\n",
      "11 &  1.230063 &  0.544623 &  1.223849 \\\\\n",
      "12 &  1.224093 &  0.546939 &  1.228236 \\\\\n",
      "13 &  1.228358 &  0.544164 &  1.227113 \\\\\n",
      "14 &  1.227174 &  0.545998 &  1.226646 \\\\\n",
      "15 &  1.226676 &  0.545441 &  1.227791 \\\\\n",
      "16 &  1.227807 &  0.545205 &  1.226943 \\\\\n",
      "17 &  1.226951 &  0.545699 &  1.227327 \\\\\n",
      "18 &  1.227331 &  0.545315 &  1.227343 \\\\\n",
      "19 &  1.227344 &  0.545482 &  1.227168 \\\\\n",
      "20 &  1.227169 &  0.545487 &  1.227341 \\\\\n",
      "21 &  1.227342 &  0.545409 &  1.227248 \\\\\n",
      "22 &  1.227248 &  0.545485 &  1.227265 \\\\\n",
      "23 &  1.227266 &  0.545444 &  1.227290 \\\\\n",
      "24 &  1.227290 &  0.545451 &  1.227258 \\\\\n",
      "25 &  1.227258 &  0.545462 &  1.227279 \\\\\n",
      "\\bottomrule\n",
      "\\end{tabular}\n",
      "\n"
     ]
    }
   ],
   "source": [
    "print(simple_protocol(sim).to_latex())"
   ]
  },
  {
   "cell_type": "code",
   "execution_count": 13,
   "id": "703e0eeb",
   "metadata": {},
   "outputs": [
    {
     "data": {
      "text/plain": [
       "array([[-0.6882472 ],\n",
       "       [-0.22941573],\n",
       "       [-0.6882472 ]])"
      ]
     },
     "execution_count": 13,
     "metadata": {},
     "output_type": "execute_result"
    }
   ],
   "source": [
    "null_space((G.stochastic_matrix() - np.eye(3)).T)"
   ]
  },
  {
   "cell_type": "code",
   "execution_count": 14,
   "id": "342b4304",
   "metadata": {},
   "outputs": [
    {
     "data": {
      "application/vnd.jupyter.widget-view+json": {
       "model_id": "6036dc5283f34e24a04258ddd3e93362",
       "version_major": 2,
       "version_minor": 0
      },
      "text/plain": [
       "interactive(children=(IntSlider(value=0, description='№ of iteration', max=39), Output()), _dom_classes=('widg…"
      ]
     },
     "metadata": {},
     "output_type": "display_data"
    }
   ],
   "source": [
    "sim = G.run_simulation([1, 0, 0], 40)\n",
    "plot_simulation(G, sim)"
   ]
  },
  {
   "cell_type": "code",
   "execution_count": 15,
   "id": "2cc756d0",
   "metadata": {},
   "outputs": [
    {
     "data": {
      "text/html": [
       "<div>\n",
       "<style scoped>\n",
       "    .dataframe tbody tr th:only-of-type {\n",
       "        vertical-align: middle;\n",
       "    }\n",
       "\n",
       "    .dataframe tbody tr th {\n",
       "        vertical-align: top;\n",
       "    }\n",
       "\n",
       "    .dataframe thead th {\n",
       "        text-align: right;\n",
       "    }\n",
       "</style>\n",
       "<table border=\"1\" class=\"dataframe\">\n",
       "  <thead>\n",
       "    <tr style=\"text-align: right;\">\n",
       "      <th></th>\n",
       "      <th>0</th>\n",
       "      <th>1</th>\n",
       "      <th>2</th>\n",
       "    </tr>\n",
       "    <tr>\n",
       "      <th>t</th>\n",
       "      <th></th>\n",
       "      <th></th>\n",
       "      <th></th>\n",
       "    </tr>\n",
       "  </thead>\n",
       "  <tbody>\n",
       "    <tr>\n",
       "      <th>0</th>\n",
       "      <td>1.000000</td>\n",
       "      <td>0.000000</td>\n",
       "      <td>0.000000</td>\n",
       "    </tr>\n",
       "    <tr>\n",
       "      <th>1</th>\n",
       "      <td>0.000000</td>\n",
       "      <td>0.333333</td>\n",
       "      <td>0.666667</td>\n",
       "    </tr>\n",
       "    <tr>\n",
       "      <th>2</th>\n",
       "      <td>0.666667</td>\n",
       "      <td>0.000000</td>\n",
       "      <td>0.333333</td>\n",
       "    </tr>\n",
       "    <tr>\n",
       "      <th>3</th>\n",
       "      <td>0.333333</td>\n",
       "      <td>0.222222</td>\n",
       "      <td>0.444444</td>\n",
       "    </tr>\n",
       "    <tr>\n",
       "      <th>4</th>\n",
       "      <td>0.444444</td>\n",
       "      <td>0.111111</td>\n",
       "      <td>0.444444</td>\n",
       "    </tr>\n",
       "    <tr>\n",
       "      <th>5</th>\n",
       "      <td>0.444444</td>\n",
       "      <td>0.148148</td>\n",
       "      <td>0.407407</td>\n",
       "    </tr>\n",
       "    <tr>\n",
       "      <th>6</th>\n",
       "      <td>0.407407</td>\n",
       "      <td>0.148148</td>\n",
       "      <td>0.444444</td>\n",
       "    </tr>\n",
       "    <tr>\n",
       "      <th>7</th>\n",
       "      <td>0.444444</td>\n",
       "      <td>0.135802</td>\n",
       "      <td>0.419753</td>\n",
       "    </tr>\n",
       "    <tr>\n",
       "      <th>8</th>\n",
       "      <td>0.419753</td>\n",
       "      <td>0.148148</td>\n",
       "      <td>0.432099</td>\n",
       "    </tr>\n",
       "    <tr>\n",
       "      <th>9</th>\n",
       "      <td>0.432099</td>\n",
       "      <td>0.139918</td>\n",
       "      <td>0.427984</td>\n",
       "    </tr>\n",
       "    <tr>\n",
       "      <th>10</th>\n",
       "      <td>0.427984</td>\n",
       "      <td>0.144033</td>\n",
       "      <td>0.427984</td>\n",
       "    </tr>\n",
       "    <tr>\n",
       "      <th>11</th>\n",
       "      <td>0.427984</td>\n",
       "      <td>0.142661</td>\n",
       "      <td>0.429355</td>\n",
       "    </tr>\n",
       "    <tr>\n",
       "      <th>12</th>\n",
       "      <td>0.429355</td>\n",
       "      <td>0.142661</td>\n",
       "      <td>0.427984</td>\n",
       "    </tr>\n",
       "    <tr>\n",
       "      <th>13</th>\n",
       "      <td>0.427984</td>\n",
       "      <td>0.143118</td>\n",
       "      <td>0.428898</td>\n",
       "    </tr>\n",
       "    <tr>\n",
       "      <th>14</th>\n",
       "      <td>0.428898</td>\n",
       "      <td>0.142661</td>\n",
       "      <td>0.428441</td>\n",
       "    </tr>\n",
       "    <tr>\n",
       "      <th>15</th>\n",
       "      <td>0.428441</td>\n",
       "      <td>0.142966</td>\n",
       "      <td>0.428593</td>\n",
       "    </tr>\n",
       "    <tr>\n",
       "      <th>16</th>\n",
       "      <td>0.428593</td>\n",
       "      <td>0.142814</td>\n",
       "      <td>0.428593</td>\n",
       "    </tr>\n",
       "    <tr>\n",
       "      <th>17</th>\n",
       "      <td>0.428593</td>\n",
       "      <td>0.142864</td>\n",
       "      <td>0.428542</td>\n",
       "    </tr>\n",
       "    <tr>\n",
       "      <th>18</th>\n",
       "      <td>0.428542</td>\n",
       "      <td>0.142864</td>\n",
       "      <td>0.428593</td>\n",
       "    </tr>\n",
       "    <tr>\n",
       "      <th>19</th>\n",
       "      <td>0.428593</td>\n",
       "      <td>0.142847</td>\n",
       "      <td>0.428559</td>\n",
       "    </tr>\n",
       "    <tr>\n",
       "      <th>20</th>\n",
       "      <td>0.428559</td>\n",
       "      <td>0.142864</td>\n",
       "      <td>0.428576</td>\n",
       "    </tr>\n",
       "    <tr>\n",
       "      <th>21</th>\n",
       "      <td>0.428576</td>\n",
       "      <td>0.142853</td>\n",
       "      <td>0.428571</td>\n",
       "    </tr>\n",
       "    <tr>\n",
       "      <th>22</th>\n",
       "      <td>0.428571</td>\n",
       "      <td>0.142859</td>\n",
       "      <td>0.428571</td>\n",
       "    </tr>\n",
       "    <tr>\n",
       "      <th>23</th>\n",
       "      <td>0.428571</td>\n",
       "      <td>0.142857</td>\n",
       "      <td>0.428573</td>\n",
       "    </tr>\n",
       "    <tr>\n",
       "      <th>24</th>\n",
       "      <td>0.428573</td>\n",
       "      <td>0.142857</td>\n",
       "      <td>0.428571</td>\n",
       "    </tr>\n",
       "    <tr>\n",
       "      <th>25</th>\n",
       "      <td>0.428571</td>\n",
       "      <td>0.142858</td>\n",
       "      <td>0.428572</td>\n",
       "    </tr>\n",
       "    <tr>\n",
       "      <th>26</th>\n",
       "      <td>0.428572</td>\n",
       "      <td>0.142857</td>\n",
       "      <td>0.428571</td>\n",
       "    </tr>\n",
       "    <tr>\n",
       "      <th>27</th>\n",
       "      <td>0.428571</td>\n",
       "      <td>0.142857</td>\n",
       "      <td>0.428571</td>\n",
       "    </tr>\n",
       "    <tr>\n",
       "      <th>28</th>\n",
       "      <td>0.428571</td>\n",
       "      <td>0.142857</td>\n",
       "      <td>0.428571</td>\n",
       "    </tr>\n",
       "    <tr>\n",
       "      <th>29</th>\n",
       "      <td>0.428571</td>\n",
       "      <td>0.142857</td>\n",
       "      <td>0.428571</td>\n",
       "    </tr>\n",
       "    <tr>\n",
       "      <th>30</th>\n",
       "      <td>0.428571</td>\n",
       "      <td>0.142857</td>\n",
       "      <td>0.428571</td>\n",
       "    </tr>\n",
       "    <tr>\n",
       "      <th>31</th>\n",
       "      <td>0.428571</td>\n",
       "      <td>0.142857</td>\n",
       "      <td>0.428571</td>\n",
       "    </tr>\n",
       "    <tr>\n",
       "      <th>32</th>\n",
       "      <td>0.428571</td>\n",
       "      <td>0.142857</td>\n",
       "      <td>0.428571</td>\n",
       "    </tr>\n",
       "    <tr>\n",
       "      <th>33</th>\n",
       "      <td>0.428571</td>\n",
       "      <td>0.142857</td>\n",
       "      <td>0.428571</td>\n",
       "    </tr>\n",
       "    <tr>\n",
       "      <th>34</th>\n",
       "      <td>0.428571</td>\n",
       "      <td>0.142857</td>\n",
       "      <td>0.428571</td>\n",
       "    </tr>\n",
       "    <tr>\n",
       "      <th>35</th>\n",
       "      <td>0.428571</td>\n",
       "      <td>0.142857</td>\n",
       "      <td>0.428571</td>\n",
       "    </tr>\n",
       "    <tr>\n",
       "      <th>36</th>\n",
       "      <td>0.428571</td>\n",
       "      <td>0.142857</td>\n",
       "      <td>0.428571</td>\n",
       "    </tr>\n",
       "    <tr>\n",
       "      <th>37</th>\n",
       "      <td>0.428571</td>\n",
       "      <td>0.142857</td>\n",
       "      <td>0.428571</td>\n",
       "    </tr>\n",
       "    <tr>\n",
       "      <th>38</th>\n",
       "      <td>0.428571</td>\n",
       "      <td>0.142857</td>\n",
       "      <td>0.428571</td>\n",
       "    </tr>\n",
       "    <tr>\n",
       "      <th>39</th>\n",
       "      <td>0.428571</td>\n",
       "      <td>0.142857</td>\n",
       "      <td>0.428571</td>\n",
       "    </tr>\n",
       "  </tbody>\n",
       "</table>\n",
       "</div>"
      ],
      "text/plain": [
       "           0         1         2\n",
       "t                               \n",
       "0   1.000000  0.000000  0.000000\n",
       "1   0.000000  0.333333  0.666667\n",
       "2   0.666667  0.000000  0.333333\n",
       "3   0.333333  0.222222  0.444444\n",
       "4   0.444444  0.111111  0.444444\n",
       "5   0.444444  0.148148  0.407407\n",
       "6   0.407407  0.148148  0.444444\n",
       "7   0.444444  0.135802  0.419753\n",
       "8   0.419753  0.148148  0.432099\n",
       "9   0.432099  0.139918  0.427984\n",
       "10  0.427984  0.144033  0.427984\n",
       "11  0.427984  0.142661  0.429355\n",
       "12  0.429355  0.142661  0.427984\n",
       "13  0.427984  0.143118  0.428898\n",
       "14  0.428898  0.142661  0.428441\n",
       "15  0.428441  0.142966  0.428593\n",
       "16  0.428593  0.142814  0.428593\n",
       "17  0.428593  0.142864  0.428542\n",
       "18  0.428542  0.142864  0.428593\n",
       "19  0.428593  0.142847  0.428559\n",
       "20  0.428559  0.142864  0.428576\n",
       "21  0.428576  0.142853  0.428571\n",
       "22  0.428571  0.142859  0.428571\n",
       "23  0.428571  0.142857  0.428573\n",
       "24  0.428573  0.142857  0.428571\n",
       "25  0.428571  0.142858  0.428572\n",
       "26  0.428572  0.142857  0.428571\n",
       "27  0.428571  0.142857  0.428571\n",
       "28  0.428571  0.142857  0.428571\n",
       "29  0.428571  0.142857  0.428571\n",
       "30  0.428571  0.142857  0.428571\n",
       "31  0.428571  0.142857  0.428571\n",
       "32  0.428571  0.142857  0.428571\n",
       "33  0.428571  0.142857  0.428571\n",
       "34  0.428571  0.142857  0.428571\n",
       "35  0.428571  0.142857  0.428571\n",
       "36  0.428571  0.142857  0.428571\n",
       "37  0.428571  0.142857  0.428571\n",
       "38  0.428571  0.142857  0.428571\n",
       "39  0.428571  0.142857  0.428571"
      ]
     },
     "execution_count": 15,
     "metadata": {},
     "output_type": "execute_result"
    }
   ],
   "source": [
    "prot = simple_protocol(sim)\n",
    "# prot.diff().abs().sum(axis=1).diff()\n",
    "prot"
   ]
  },
  {
   "cell_type": "markdown",
   "id": "452ec16a",
   "metadata": {},
   "source": [
    "---"
   ]
  },
  {
   "cell_type": "code",
   "execution_count": null,
   "id": "a8224da9",
   "metadata": {},
   "outputs": [],
   "source": []
  },
  {
   "cell_type": "markdown",
   "id": "5a428582",
   "metadata": {},
   "source": [
    "---"
   ]
  },
  {
   "cell_type": "code",
   "execution_count": null,
   "id": "cbe00fd4",
   "metadata": {},
   "outputs": [],
   "source": [
    "\n",
    "\n",
    "\n",
    "\n",
    "\n",
    "\n",
    "\n",
    "\n",
    "\n",
    "\n",
    "\n",
    "\n",
    "\n",
    "\n"
   ]
  }
 ],
 "metadata": {
  "kernelspec": {
   "display_name": "Python 3 (ipykernel)",
   "language": "python",
   "name": "python3"
  },
  "language_info": {
   "codemirror_mode": {
    "name": "ipython",
    "version": 3
   },
   "file_extension": ".py",
   "mimetype": "text/x-python",
   "name": "python",
   "nbconvert_exporter": "python",
   "pygments_lexer": "ipython3",
   "version": "3.11.4"
  }
 },
 "nbformat": 4,
 "nbformat_minor": 5
}
