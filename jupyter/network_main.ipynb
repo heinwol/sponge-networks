{
 "cells": [
  {
   "cell_type": "code",
   "execution_count": 1,
   "id": "8122536b-12dd-4ed2-bb86-784fc55d5051",
   "metadata": {},
   "outputs": [],
   "source": [
    "# import sys\n",
    "# sys.path.append('..')\n",
    "\n",
    "# %reload_ext autoreload\n",
    "# %autoreload 2\n",
    "# # %aimport sponge_networks\n",
    "# # %aimport sponge_networks.utils"
   ]
  },
  {
   "cell_type": "code",
   "execution_count": 2,
   "id": "d2e6c76f-f590-4fee-897e-c0ede2a2367b",
   "metadata": {},
   "outputs": [],
   "source": [
    "import sponge_networks as sn\n",
    "\n",
    "import matplotlib.pyplot as plt\n",
    "plt.rcParams[\"figure.figsize\"] = (10, 7)\n",
    "plt.rcParams[\"axes.grid\"] = True\n",
    "plt.rcParams[\"font.size\"] = 12\n",
    "%matplotlib inline\n",
    "\n",
    "import numpy as np\n",
    "import networkx as nx\n",
    "import pandas as pd"
   ]
  },
  {
   "cell_type": "markdown",
   "id": "9721b3a6-5879-48b5-be96-23909a3837c9",
   "metadata": {},
   "source": [
    "## Layouts"
   ]
  },
  {
   "cell_type": "code",
   "execution_count": 3,
   "id": "d8d29daf-9181-420f-a3c6-01fec02b531c",
   "metadata": {},
   "outputs": [],
   "source": [
    "nw = sn.build_sponge_network(\n",
    "    grid_type=\"hexagonal\", n_cols=3, n_rows=2,\n",
    "    layout={\n",
    "        \"weights_sink_edge\": 1,\n",
    "        \"weights_loop\": 1,\n",
    "        \"weights_horizontal\": 2,\n",
    "        \"weights_up_down\": 5,\n",
    "        \"weights_down_up\": 1,\n",
    "    },\n",
    "    generate_sinks=True,\n",
    ")"
   ]
  },
  {
   "cell_type": "code",
   "execution_count": 4,
   "id": "8b91dcb0-fb07-4922-999a-6589be0ace63",
   "metadata": {},
   "outputs": [
    {
     "data": {
      "application/vnd.jupyter.widget-view+json": {
       "model_id": "0a160d9ddd014829a824ee967a4ad5db",
       "version_major": 2,
       "version_minor": 0
      },
      "text/plain": [
       "interactive(children=(IntSlider(value=0, description='№ of iteration', max=29), Output()), _dom_classes=('widg…"
      ]
     },
     "metadata": {},
     "output_type": "display_data"
    }
   ],
   "source": [
    "sim = nw.run_sponge_simulation([50, 20], n_iters=30)\n",
    "nw.plot_simulation(sim, scale=1.)"
   ]
  },
  {
   "cell_type": "code",
   "execution_count": 13,
   "id": "9d8109bc-c205-4bee-ad04-ce09740bfeb2",
   "metadata": {},
   "outputs": [
    {
     "data": {
      "text/plain": [
       "0.30616237529450885"
      ]
     },
     "execution_count": 13,
     "metadata": {},
     "output_type": "execute_result"
    }
   ],
   "source": [
    "sim[9]['states'][[(3, 0)]]"
   ]
  },
  {
   "cell_type": "code",
   "execution_count": 20,
   "id": "73ab9f1f-48de-4453-a1b6-0208e70417a4",
   "metadata": {},
   "outputs": [
    {
     "data": {
      "text/plain": [
       "0.0"
      ]
     },
     "execution_count": 20,
     "metadata": {},
     "output_type": "execute_result"
    }
   ],
   "source": [
    "sim[9]['states'][[(3, -1)]]"
   ]
  },
  {
   "cell_type": "code",
   "execution_count": 21,
   "id": "d181c305-c945-4b31-a082-79f2fe9d2775",
   "metadata": {},
   "outputs": [
    {
     "data": {
      "text/plain": [
       "1.2256466934939478"
      ]
     },
     "execution_count": 21,
     "metadata": {},
     "output_type": "execute_result"
    }
   ],
   "source": [
    "sim[10]['states'][[(3, 0)]]"
   ]
  },
  {
   "cell_type": "code",
   "execution_count": 19,
   "id": "b8835195-c891-4a80-8ba2-003b60a7f8c4",
   "metadata": {},
   "outputs": [
    {
     "data": {
      "text/plain": [
       "-1.7763568394002505e-15"
      ]
     },
     "execution_count": 19,
     "metadata": {},
     "output_type": "execute_result"
    }
   ],
   "source": [
    "sim[10]['states'][[(3, -1)]]"
   ]
  },
  {
   "cell_type": "code",
   "execution_count": 24,
   "id": "d71d26f5-d2a0-4aab-8e4f-30c64c8a2c4a",
   "metadata": {},
   "outputs": [
    {
     "data": {
      "text/plain": [
       "8"
      ]
     },
     "execution_count": 24,
     "metadata": {},
     "output_type": "execute_result"
    }
   ],
   "source": [
    "import os\n",
    "os.cpu_count()"
   ]
  },
  {
   "cell_type": "code",
   "execution_count": null,
   "id": "2e608e24-410f-4ee6-bfe0-4b6586d97940",
   "metadata": {},
   "outputs": [],
   "source": []
  }
 ],
 "metadata": {
  "kernelspec": {
   "display_name": "Python 3 (ipykernel)",
   "language": "python",
   "name": "python3"
  },
  "language_info": {
   "codemirror_mode": {
    "name": "ipython",
    "version": 3
   },
   "file_extension": ".py",
   "mimetype": "text/x-python",
   "name": "python",
   "nbconvert_exporter": "python",
   "pygments_lexer": "ipython3",
   "version": "3.11.4"
  }
 },
 "nbformat": 4,
 "nbformat_minor": 5
}
