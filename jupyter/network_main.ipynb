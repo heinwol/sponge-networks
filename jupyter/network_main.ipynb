{
 "cells": [
  {
   "cell_type": "code",
   "execution_count": 1,
   "id": "8122536b-12dd-4ed2-bb86-784fc55d5051",
   "metadata": {},
   "outputs": [],
   "source": [
    "import sys\n",
    "sys.path.append('..')\n",
    "\n",
    "%reload_ext autoreload\n",
    "%autoreload 2\n",
    "%aimport sponge_networks\n",
    "# # %aimport sponge_networks.utils"
   ]
  },
  {
   "cell_type": "code",
   "execution_count": 2,
   "id": "d2e6c76f-f590-4fee-897e-c0ede2a2367b",
   "metadata": {},
   "outputs": [],
   "source": [
    "import sponge_networks as sn\n",
    "# from sponge_networks import sponge_networks \n",
    "\n",
    "import matplotlib.pyplot as plt\n",
    "plt.rcParams[\"figure.figsize\"] = (10, 7)\n",
    "plt.rcParams[\"axes.grid\"] = True\n",
    "plt.rcParams[\"font.size\"] = 12\n",
    "%matplotlib inline\n",
    "\n",
    "import numpy as np\n",
    "import networkx as nx\n",
    "import pandas as pd"
   ]
  },
  {
   "cell_type": "markdown",
   "id": "9721b3a6-5879-48b5-be96-23909a3837c9",
   "metadata": {},
   "source": [
    "## Layouts"
   ]
  },
  {
   "cell_type": "code",
   "execution_count": 12,
   "id": "d8d29daf-9181-420f-a3c6-01fec02b531c",
   "metadata": {},
   "outputs": [],
   "source": [
    "nw = sn.build_sponge_network(\n",
    "    grid_type=\"hexagonal\", n_cols=3, n_rows=2,\n",
    "    layout={\n",
    "        \"weights_sink_edge\": 1,\n",
    "        \"weights_loop\": 1,\n",
    "        \"weights_horizontal\": 2,\n",
    "        \"weights_up_down\": 5,\n",
    "        \"weights_down_up\": 1,\n",
    "        \"generate_sinks\": True,\n",
    "    },\n",
    "    visual_sink_edge_length=1.\n",
    ")"
   ]
  },
  {
   "cell_type": "code",
   "execution_count": 13,
   "id": "d53a35c9-77e4-48d5-a8e4-13f7b3072e1c",
   "metadata": {},
   "outputs": [],
   "source": [
    "# nw.resource_network.plot()"
   ]
  },
  {
   "cell_type": "code",
   "execution_count": 14,
   "id": "8b91dcb0-fb07-4922-999a-6589be0ace63",
   "metadata": {},
   "outputs": [
    {
     "data": {
      "application/vnd.jupyter.widget-view+json": {
       "model_id": "bea8de5efdc24ea4ae0468740be9d495",
       "version_major": 2,
       "version_minor": 0
      },
      "text/plain": [
       "interactive(children=(IntSlider(value=0, description='№ of iteration', max=9), Output()), _dom_classes=('widge…"
      ]
     },
     "metadata": {},
     "output_type": "display_data"
    }
   ],
   "source": [
    "sim = nw.run_sponge_simulation([5, 0], n_iters=10)\n",
    "nw.plot_simulation(sim, scale=0.8)"
   ]
  },
  {
   "cell_type": "code",
   "execution_count": 6,
   "id": "e681f0f5-579a-4e67-9a1f-36cd39ad336d",
   "metadata": {},
   "outputs": [
    {
     "data": {
      "text/plain": [
       "NodeView(((0, 0), (0, 1), (0, 2), (0, 3), (0, 4), (0, 5), (0, 6), (1, 0), (1, 1), (1, 2), (1, 3), (1, 4), (1, 5), (1, 6), (1, 7), (2, 0), (2, 1), (2, 2), (2, 3), (2, 4), (2, 5), (2, 6), (2, 7), (3, 0), (3, 1), (3, 2), (3, 3), (3, 4), (3, 5), (3, 6), (0, -1), (1, -1), (2, -1), (3, -1)))"
      ]
     },
     "execution_count": 6,
     "metadata": {},
     "output_type": "execute_result"
    }
   ],
   "source": [
    "nw.resource_network.G.nodes()"
   ]
  },
  {
   "cell_type": "code",
   "execution_count": 7,
   "id": "2e608e24-410f-4ee6-bfe0-4b6586d97940",
   "metadata": {},
   "outputs": [],
   "source": [
    "R = np.array([\n",
    "        [0, 1, 2],\n",
    "        [1, 0, 0],\n",
    "        [1, 3, 0]\n",
    "    ])\n",
    "rn = sn.resource_networks.ResourceNetwork(nx.from_numpy_array(R, create_using=nx.DiGraph))"
   ]
  },
  {
   "cell_type": "code",
   "execution_count": 8,
   "id": "6c162550-6e3c-49d4-86f5-151fbaba098a",
   "metadata": {},
   "outputs": [
    {
     "data": {
      "text/plain": [
       "array([[0, 1, 2],\n",
       "       [1, 0, 0],\n",
       "       [1, 3, 0]])"
      ]
     },
     "execution_count": 8,
     "metadata": {},
     "output_type": "execute_result"
    }
   ],
   "source": [
    "R"
   ]
  },
  {
   "cell_type": "code",
   "execution_count": 9,
   "id": "696aa541-e692-4e73-bc41-6d6c20397449",
   "metadata": {},
   "outputs": [
    {
     "data": {
      "text/plain": [
       "array([[0.        , 0.33333333, 0.66666667],\n",
       "       [1.        , 0.        , 0.        ],\n",
       "       [0.25      , 0.75      , 0.        ]])"
      ]
     },
     "execution_count": 9,
     "metadata": {},
     "output_type": "execute_result"
    }
   ],
   "source": [
    "rn.stochastic_matrix"
   ]
  },
  {
   "cell_type": "code",
   "execution_count": 10,
   "id": "67202550-b3ac-4aca-a647-c0416320e15a",
   "metadata": {},
   "outputs": [
    {
     "data": {
      "text/plain": [
       "array([[[1, 1, 1],\n",
       "        [1, 1, 1],\n",
       "        [2, 2, 2]]])"
      ]
     },
     "execution_count": 10,
     "metadata": {},
     "output_type": "execute_result"
    }
   ],
   "source": [
    "v = np.array([[1, 1, 2]])\n",
    "np.tensordot(v, np.array([1, 1, 1]), 0)"
   ]
  },
  {
   "cell_type": "code",
   "execution_count": 11,
   "id": "dc586d88-457b-454a-9431-bee826c2886b",
   "metadata": {},
   "outputs": [
    {
     "data": {
      "text/plain": [
       "array([2, 4, 2])"
      ]
     },
     "execution_count": 11,
     "metadata": {},
     "output_type": "execute_result"
    }
   ],
   "source": [
    "(np.array([1, 1, 1])@R)"
   ]
  }
 ],
 "metadata": {
  "kernelspec": {
   "display_name": "Python 3 (ipykernel)",
   "language": "python",
   "name": "python3"
  },
  "language_info": {
   "codemirror_mode": {
    "name": "ipython",
    "version": 3
   },
   "file_extension": ".py",
   "mimetype": "text/x-python",
   "name": "python",
   "nbconvert_exporter": "python",
   "pygments_lexer": "ipython3",
   "version": "3.11.4"
  }
 },
 "nbformat": 4,
 "nbformat_minor": 5
}
